{
  "cells": [
    {
      "cell_type": "markdown",
      "metadata": {
        "id": "view-in-github",
        "colab_type": "text"
      },
      "source": [
        "<a href=\"https://colab.research.google.com/github/edwinsalazar/AdvDataViz/blob/main/outcome/04%20Continuous%20Variables%20-%20Histogram%20.ipynb\" target=\"_parent\"><img src=\"https://colab.research.google.com/assets/colab-badge.svg\" alt=\"Open In Colab\"/></a>"
      ]
    },
    {
      "cell_type": "markdown",
      "metadata": {
        "id": "UL1a1eCfqh3t"
      },
      "source": [
        "# Continuous Variables - Histogram"
      ]
    },
    {
      "cell_type": "code",
      "execution_count": 1,
      "metadata": {
        "id": "PfODJ0sPqh3u"
      },
      "outputs": [],
      "source": [
        "import pandas as pd\n",
        "import matplotlib.pyplot as plt"
      ]
    },
    {
      "cell_type": "code",
      "source": [
        "from google.colab import drive\n",
        "import os\n",
        "\n",
        "drive.mount('/content/drive')\n",
        "os.chdir('/content/drive/MyDrive/')\n",
        "for item in os.listdir():\n",
        "  print(item)\n",
        "print(\"--------------\")\n",
        "os.chdir('/content/drive/MyDrive/cloud/GitHub/AdvDataViz/Notebooks/')\n",
        "for item in os.listdir():\n",
        "  print(item)\n",
        "print(\"--------------\")\n",
        "notebooks = \"/content/drive/MyDrive/cloud/GitHub/AdvDataViz/Notebooks\"\n",
        "print(os.listdir(notebooks))\n",
        "print(\"--------------\")\n",
        "\n",
        "file = \"heart-disease.csv\"\n",
        "file_path = os.path.join(notebooks, file)\n",
        "with open(file_path, \"r\") as f:\n",
        "  contents = f.read()"
      ],
      "metadata": {
        "id": "oZZwMpp2qwup",
        "outputId": "98bf711a-aa31-494c-ff99-311cf16effa5",
        "colab": {
          "base_uri": "https://localhost:8080/"
        }
      },
      "execution_count": 2,
      "outputs": [
        {
          "output_type": "stream",
          "name": "stdout",
          "text": [
            "Mounted at /content/drive\n",
            "learningStore\n",
            "healthyCar\n",
            "startup\n",
            "Artificial Intelligence\n",
            "cloud\n",
            "--------------\n",
            "03 Matplotlib  - Exercise.ipynb\n",
            "02 Matplotlib.ipynb\n",
            "01 Python_Pandas.ipynb\n",
            "04 Continuous Variables - Histogram .ipynb\n",
            "05 Continuous Variables - Histogram - Exercise .ipynb\n",
            "07 Continuous Variables - Boxplot - Exercise .ipynb\n",
            "03 Matplotlib - Exercise Solutions.ipynb\n",
            "05 Continuous Variables - Histogram - Exercise Solutions.ipynb\n",
            "06 Continuous Variables - Boxplot.ipynb\n",
            "08 Continuous Variables - Scatterplot.ipynb\n",
            "07 Continuous Variables - Boxplot - Exercise Solutions.ipynb\n",
            "09 Continuous Variables - Scatterplot - Exercise Solutions.ipynb\n",
            "09 Continuous Variables - Scatterplot - Exercise .ipynb\n",
            "10 Categorical Variables - Bar_Pie.ipynb\n",
            "12 Seaborn.ipynb\n",
            "11 Pandas Data Visualization.ipynb\n",
            "13 Seaborn - Exercise .ipynb\n",
            "Top 50 US Tech Companies.csv\n",
            "13 Seaborn - Exercise Solution.ipynb\n",
            "15 Custom Modules.ipynb\n",
            "14 Functions.ipynb\n",
            "churn.csv\n",
            "student_performance.csv\n",
            "myplotlib.py\n",
            "employee_attrition_.csv\n",
            "heart-disease.csv\n",
            "--------------\n",
            "['03 Matplotlib  - Exercise.ipynb', '02 Matplotlib.ipynb', '01 Python_Pandas.ipynb', '04 Continuous Variables - Histogram .ipynb', '05 Continuous Variables - Histogram - Exercise .ipynb', '07 Continuous Variables - Boxplot - Exercise .ipynb', '03 Matplotlib - Exercise Solutions.ipynb', '05 Continuous Variables - Histogram - Exercise Solutions.ipynb', '06 Continuous Variables - Boxplot.ipynb', '08 Continuous Variables - Scatterplot.ipynb', '07 Continuous Variables - Boxplot - Exercise Solutions.ipynb', '09 Continuous Variables - Scatterplot - Exercise Solutions.ipynb', '09 Continuous Variables - Scatterplot - Exercise .ipynb', '10 Categorical Variables - Bar_Pie.ipynb', '12 Seaborn.ipynb', '11 Pandas Data Visualization.ipynb', '13 Seaborn - Exercise .ipynb', 'Top 50 US Tech Companies.csv', '13 Seaborn - Exercise Solution.ipynb', '15 Custom Modules.ipynb', '14 Functions.ipynb', 'churn.csv', 'student_performance.csv', 'myplotlib.py', 'employee_attrition_.csv', 'heart-disease.csv']\n",
            "--------------\n"
          ]
        }
      ]
    },
    {
      "cell_type": "markdown",
      "metadata": {
        "id": "lNyFy28Fqh3u"
      },
      "source": [
        "### Dataset: Heart Disease"
      ]
    },
    {
      "cell_type": "code",
      "execution_count": 6,
      "metadata": {
        "id": "MVlQM3qMqh3v",
        "outputId": "5df94c44-f98e-4f92-c46d-eb890b27d4c7",
        "colab": {
          "base_uri": "https://localhost:8080/",
          "height": 206
        }
      },
      "outputs": [
        {
          "output_type": "execute_result",
          "data": {
            "text/plain": [
              "   age     sex  chest_pain  rest_bp  chol  max_hr  st_depr  heart_disease\n",
              "0   63  female           3      145   233     150      2.3              1\n",
              "1   37  female           2      130   250     187      3.5              1\n",
              "2   41    male           1      130   204     172      1.4              1\n",
              "3   56  female           1      120   236     178      0.8              1\n",
              "4   57    male           0      120   354     163      0.6              1"
            ],
            "text/html": [
              "\n",
              "  <div id=\"df-dbe292cf-fdd3-44f5-8b54-ec74acf293d6\" class=\"colab-df-container\">\n",
              "    <div>\n",
              "<style scoped>\n",
              "    .dataframe tbody tr th:only-of-type {\n",
              "        vertical-align: middle;\n",
              "    }\n",
              "\n",
              "    .dataframe tbody tr th {\n",
              "        vertical-align: top;\n",
              "    }\n",
              "\n",
              "    .dataframe thead th {\n",
              "        text-align: right;\n",
              "    }\n",
              "</style>\n",
              "<table border=\"1\" class=\"dataframe\">\n",
              "  <thead>\n",
              "    <tr style=\"text-align: right;\">\n",
              "      <th></th>\n",
              "      <th>age</th>\n",
              "      <th>sex</th>\n",
              "      <th>chest_pain</th>\n",
              "      <th>rest_bp</th>\n",
              "      <th>chol</th>\n",
              "      <th>max_hr</th>\n",
              "      <th>st_depr</th>\n",
              "      <th>heart_disease</th>\n",
              "    </tr>\n",
              "  </thead>\n",
              "  <tbody>\n",
              "    <tr>\n",
              "      <th>0</th>\n",
              "      <td>63</td>\n",
              "      <td>female</td>\n",
              "      <td>3</td>\n",
              "      <td>145</td>\n",
              "      <td>233</td>\n",
              "      <td>150</td>\n",
              "      <td>2.3</td>\n",
              "      <td>1</td>\n",
              "    </tr>\n",
              "    <tr>\n",
              "      <th>1</th>\n",
              "      <td>37</td>\n",
              "      <td>female</td>\n",
              "      <td>2</td>\n",
              "      <td>130</td>\n",
              "      <td>250</td>\n",
              "      <td>187</td>\n",
              "      <td>3.5</td>\n",
              "      <td>1</td>\n",
              "    </tr>\n",
              "    <tr>\n",
              "      <th>2</th>\n",
              "      <td>41</td>\n",
              "      <td>male</td>\n",
              "      <td>1</td>\n",
              "      <td>130</td>\n",
              "      <td>204</td>\n",
              "      <td>172</td>\n",
              "      <td>1.4</td>\n",
              "      <td>1</td>\n",
              "    </tr>\n",
              "    <tr>\n",
              "      <th>3</th>\n",
              "      <td>56</td>\n",
              "      <td>female</td>\n",
              "      <td>1</td>\n",
              "      <td>120</td>\n",
              "      <td>236</td>\n",
              "      <td>178</td>\n",
              "      <td>0.8</td>\n",
              "      <td>1</td>\n",
              "    </tr>\n",
              "    <tr>\n",
              "      <th>4</th>\n",
              "      <td>57</td>\n",
              "      <td>male</td>\n",
              "      <td>0</td>\n",
              "      <td>120</td>\n",
              "      <td>354</td>\n",
              "      <td>163</td>\n",
              "      <td>0.6</td>\n",
              "      <td>1</td>\n",
              "    </tr>\n",
              "  </tbody>\n",
              "</table>\n",
              "</div>\n",
              "    <div class=\"colab-df-buttons\">\n",
              "\n",
              "  <div class=\"colab-df-container\">\n",
              "    <button class=\"colab-df-convert\" onclick=\"convertToInteractive('df-dbe292cf-fdd3-44f5-8b54-ec74acf293d6')\"\n",
              "            title=\"Convert this dataframe to an interactive table.\"\n",
              "            style=\"display:none;\">\n",
              "\n",
              "  <svg xmlns=\"http://www.w3.org/2000/svg\" height=\"24px\" viewBox=\"0 -960 960 960\">\n",
              "    <path d=\"M120-120v-720h720v720H120Zm60-500h600v-160H180v160Zm220 220h160v-160H400v160Zm0 220h160v-160H400v160ZM180-400h160v-160H180v160Zm440 0h160v-160H620v160ZM180-180h160v-160H180v160Zm440 0h160v-160H620v160Z\"/>\n",
              "  </svg>\n",
              "    </button>\n",
              "\n",
              "  <style>\n",
              "    .colab-df-container {\n",
              "      display:flex;\n",
              "      gap: 12px;\n",
              "    }\n",
              "\n",
              "    .colab-df-convert {\n",
              "      background-color: #E8F0FE;\n",
              "      border: none;\n",
              "      border-radius: 50%;\n",
              "      cursor: pointer;\n",
              "      display: none;\n",
              "      fill: #1967D2;\n",
              "      height: 32px;\n",
              "      padding: 0 0 0 0;\n",
              "      width: 32px;\n",
              "    }\n",
              "\n",
              "    .colab-df-convert:hover {\n",
              "      background-color: #E2EBFA;\n",
              "      box-shadow: 0px 1px 2px rgba(60, 64, 67, 0.3), 0px 1px 3px 1px rgba(60, 64, 67, 0.15);\n",
              "      fill: #174EA6;\n",
              "    }\n",
              "\n",
              "    .colab-df-buttons div {\n",
              "      margin-bottom: 4px;\n",
              "    }\n",
              "\n",
              "    [theme=dark] .colab-df-convert {\n",
              "      background-color: #3B4455;\n",
              "      fill: #D2E3FC;\n",
              "    }\n",
              "\n",
              "    [theme=dark] .colab-df-convert:hover {\n",
              "      background-color: #434B5C;\n",
              "      box-shadow: 0px 1px 3px 1px rgba(0, 0, 0, 0.15);\n",
              "      filter: drop-shadow(0px 1px 2px rgba(0, 0, 0, 0.3));\n",
              "      fill: #FFFFFF;\n",
              "    }\n",
              "  </style>\n",
              "\n",
              "    <script>\n",
              "      const buttonEl =\n",
              "        document.querySelector('#df-dbe292cf-fdd3-44f5-8b54-ec74acf293d6 button.colab-df-convert');\n",
              "      buttonEl.style.display =\n",
              "        google.colab.kernel.accessAllowed ? 'block' : 'none';\n",
              "\n",
              "      async function convertToInteractive(key) {\n",
              "        const element = document.querySelector('#df-dbe292cf-fdd3-44f5-8b54-ec74acf293d6');\n",
              "        const dataTable =\n",
              "          await google.colab.kernel.invokeFunction('convertToInteractive',\n",
              "                                                    [key], {});\n",
              "        if (!dataTable) return;\n",
              "\n",
              "        const docLinkHtml = 'Like what you see? Visit the ' +\n",
              "          '<a target=\"_blank\" href=https://colab.research.google.com/notebooks/data_table.ipynb>data table notebook</a>'\n",
              "          + ' to learn more about interactive tables.';\n",
              "        element.innerHTML = '';\n",
              "        dataTable['output_type'] = 'display_data';\n",
              "        await google.colab.output.renderOutput(dataTable, element);\n",
              "        const docLink = document.createElement('div');\n",
              "        docLink.innerHTML = docLinkHtml;\n",
              "        element.appendChild(docLink);\n",
              "      }\n",
              "    </script>\n",
              "  </div>\n",
              "\n",
              "\n",
              "<div id=\"df-81bb9c50-79df-4d9d-a21c-b9ebb519a542\">\n",
              "  <button class=\"colab-df-quickchart\" onclick=\"quickchart('df-81bb9c50-79df-4d9d-a21c-b9ebb519a542')\"\n",
              "            title=\"Suggest charts\"\n",
              "            style=\"display:none;\">\n",
              "\n",
              "<svg xmlns=\"http://www.w3.org/2000/svg\" height=\"24px\"viewBox=\"0 0 24 24\"\n",
              "     width=\"24px\">\n",
              "    <g>\n",
              "        <path d=\"M19 3H5c-1.1 0-2 .9-2 2v14c0 1.1.9 2 2 2h14c1.1 0 2-.9 2-2V5c0-1.1-.9-2-2-2zM9 17H7v-7h2v7zm4 0h-2V7h2v10zm4 0h-2v-4h2v4z\"/>\n",
              "    </g>\n",
              "</svg>\n",
              "  </button>\n",
              "\n",
              "<style>\n",
              "  .colab-df-quickchart {\n",
              "      --bg-color: #E8F0FE;\n",
              "      --fill-color: #1967D2;\n",
              "      --hover-bg-color: #E2EBFA;\n",
              "      --hover-fill-color: #174EA6;\n",
              "      --disabled-fill-color: #AAA;\n",
              "      --disabled-bg-color: #DDD;\n",
              "  }\n",
              "\n",
              "  [theme=dark] .colab-df-quickchart {\n",
              "      --bg-color: #3B4455;\n",
              "      --fill-color: #D2E3FC;\n",
              "      --hover-bg-color: #434B5C;\n",
              "      --hover-fill-color: #FFFFFF;\n",
              "      --disabled-bg-color: #3B4455;\n",
              "      --disabled-fill-color: #666;\n",
              "  }\n",
              "\n",
              "  .colab-df-quickchart {\n",
              "    background-color: var(--bg-color);\n",
              "    border: none;\n",
              "    border-radius: 50%;\n",
              "    cursor: pointer;\n",
              "    display: none;\n",
              "    fill: var(--fill-color);\n",
              "    height: 32px;\n",
              "    padding: 0;\n",
              "    width: 32px;\n",
              "  }\n",
              "\n",
              "  .colab-df-quickchart:hover {\n",
              "    background-color: var(--hover-bg-color);\n",
              "    box-shadow: 0 1px 2px rgba(60, 64, 67, 0.3), 0 1px 3px 1px rgba(60, 64, 67, 0.15);\n",
              "    fill: var(--button-hover-fill-color);\n",
              "  }\n",
              "\n",
              "  .colab-df-quickchart-complete:disabled,\n",
              "  .colab-df-quickchart-complete:disabled:hover {\n",
              "    background-color: var(--disabled-bg-color);\n",
              "    fill: var(--disabled-fill-color);\n",
              "    box-shadow: none;\n",
              "  }\n",
              "\n",
              "  .colab-df-spinner {\n",
              "    border: 2px solid var(--fill-color);\n",
              "    border-color: transparent;\n",
              "    border-bottom-color: var(--fill-color);\n",
              "    animation:\n",
              "      spin 1s steps(1) infinite;\n",
              "  }\n",
              "\n",
              "  @keyframes spin {\n",
              "    0% {\n",
              "      border-color: transparent;\n",
              "      border-bottom-color: var(--fill-color);\n",
              "      border-left-color: var(--fill-color);\n",
              "    }\n",
              "    20% {\n",
              "      border-color: transparent;\n",
              "      border-left-color: var(--fill-color);\n",
              "      border-top-color: var(--fill-color);\n",
              "    }\n",
              "    30% {\n",
              "      border-color: transparent;\n",
              "      border-left-color: var(--fill-color);\n",
              "      border-top-color: var(--fill-color);\n",
              "      border-right-color: var(--fill-color);\n",
              "    }\n",
              "    40% {\n",
              "      border-color: transparent;\n",
              "      border-right-color: var(--fill-color);\n",
              "      border-top-color: var(--fill-color);\n",
              "    }\n",
              "    60% {\n",
              "      border-color: transparent;\n",
              "      border-right-color: var(--fill-color);\n",
              "    }\n",
              "    80% {\n",
              "      border-color: transparent;\n",
              "      border-right-color: var(--fill-color);\n",
              "      border-bottom-color: var(--fill-color);\n",
              "    }\n",
              "    90% {\n",
              "      border-color: transparent;\n",
              "      border-bottom-color: var(--fill-color);\n",
              "    }\n",
              "  }\n",
              "</style>\n",
              "\n",
              "  <script>\n",
              "    async function quickchart(key) {\n",
              "      const quickchartButtonEl =\n",
              "        document.querySelector('#' + key + ' button');\n",
              "      quickchartButtonEl.disabled = true;  // To prevent multiple clicks.\n",
              "      quickchartButtonEl.classList.add('colab-df-spinner');\n",
              "      try {\n",
              "        const charts = await google.colab.kernel.invokeFunction(\n",
              "            'suggestCharts', [key], {});\n",
              "      } catch (error) {\n",
              "        console.error('Error during call to suggestCharts:', error);\n",
              "      }\n",
              "      quickchartButtonEl.classList.remove('colab-df-spinner');\n",
              "      quickchartButtonEl.classList.add('colab-df-quickchart-complete');\n",
              "    }\n",
              "    (() => {\n",
              "      let quickchartButtonEl =\n",
              "        document.querySelector('#df-81bb9c50-79df-4d9d-a21c-b9ebb519a542 button');\n",
              "      quickchartButtonEl.style.display =\n",
              "        google.colab.kernel.accessAllowed ? 'block' : 'none';\n",
              "    })();\n",
              "  </script>\n",
              "</div>\n",
              "\n",
              "    </div>\n",
              "  </div>\n"
            ],
            "application/vnd.google.colaboratory.intrinsic+json": {
              "type": "dataframe",
              "variable_name": "df",
              "summary": "{\n  \"name\": \"df\",\n  \"rows\": 303,\n  \"fields\": [\n    {\n      \"column\": \"age\",\n      \"properties\": {\n        \"dtype\": \"number\",\n        \"std\": 9,\n        \"min\": 29,\n        \"max\": 77,\n        \"num_unique_values\": 41,\n        \"samples\": [\n          46,\n          66,\n          48\n        ],\n        \"semantic_type\": \"\",\n        \"description\": \"\"\n      }\n    },\n    {\n      \"column\": \"sex\",\n      \"properties\": {\n        \"dtype\": \"category\",\n        \"num_unique_values\": 2,\n        \"samples\": [\n          \"male\",\n          \"female\"\n        ],\n        \"semantic_type\": \"\",\n        \"description\": \"\"\n      }\n    },\n    {\n      \"column\": \"chest_pain\",\n      \"properties\": {\n        \"dtype\": \"number\",\n        \"std\": 1,\n        \"min\": 0,\n        \"max\": 3,\n        \"num_unique_values\": 4,\n        \"samples\": [\n          2,\n          0\n        ],\n        \"semantic_type\": \"\",\n        \"description\": \"\"\n      }\n    },\n    {\n      \"column\": \"rest_bp\",\n      \"properties\": {\n        \"dtype\": \"number\",\n        \"std\": 17,\n        \"min\": 94,\n        \"max\": 200,\n        \"num_unique_values\": 49,\n        \"samples\": [\n          104,\n          123\n        ],\n        \"semantic_type\": \"\",\n        \"description\": \"\"\n      }\n    },\n    {\n      \"column\": \"chol\",\n      \"properties\": {\n        \"dtype\": \"number\",\n        \"std\": 51,\n        \"min\": 126,\n        \"max\": 564,\n        \"num_unique_values\": 152,\n        \"samples\": [\n          277,\n          169\n        ],\n        \"semantic_type\": \"\",\n        \"description\": \"\"\n      }\n    },\n    {\n      \"column\": \"max_hr\",\n      \"properties\": {\n        \"dtype\": \"number\",\n        \"std\": 22,\n        \"min\": 71,\n        \"max\": 202,\n        \"num_unique_values\": 91,\n        \"samples\": [\n          159,\n          152\n        ],\n        \"semantic_type\": \"\",\n        \"description\": \"\"\n      }\n    },\n    {\n      \"column\": \"st_depr\",\n      \"properties\": {\n        \"dtype\": \"number\",\n        \"std\": 1.1610750220686343,\n        \"min\": 0.0,\n        \"max\": 6.2,\n        \"num_unique_values\": 40,\n        \"samples\": [\n          1.9,\n          3.0\n        ],\n        \"semantic_type\": \"\",\n        \"description\": \"\"\n      }\n    },\n    {\n      \"column\": \"heart_disease\",\n      \"properties\": {\n        \"dtype\": \"number\",\n        \"std\": 0,\n        \"min\": 0,\n        \"max\": 1,\n        \"num_unique_values\": 2,\n        \"samples\": [\n          0,\n          1\n        ],\n        \"semantic_type\": \"\",\n        \"description\": \"\"\n      }\n    }\n  ]\n}"
            }
          },
          "metadata": {},
          "execution_count": 6
        }
      ],
      "source": [
        "#df = pd.read_csv(\"heart-disease.csv\")\n",
        "df = pd.read_csv(file_path)\n",
        "\n",
        "df.head()"
      ]
    },
    {
      "cell_type": "markdown",
      "metadata": {
        "id": "lK2IL30Uqh3v"
      },
      "source": [
        "---"
      ]
    },
    {
      "cell_type": "markdown",
      "metadata": {
        "id": "QUG-ydDfqh3v"
      },
      "source": [
        "# Histogram"
      ]
    },
    {
      "cell_type": "code",
      "execution_count": 4,
      "metadata": {
        "id": "QQO7KBcrqh3v",
        "outputId": "f2664a39-c1ac-44af-cd52-51fd05561596",
        "colab": {
          "base_uri": "https://localhost:8080/",
          "height": 430
        }
      },
      "outputs": [
        {
          "output_type": "display_data",
          "data": {
            "text/plain": [
              "<Figure size 640x480 with 1 Axes>"
            ],
            "image/png": "[encoded data removed]"
          },
          "metadata": {}
        }
      ],
      "source": [
        "fig, ax = plt.subplots()\n",
        "\n",
        "ax.hist(df['age'], color='g', edgecolor='black'); # the default number of bins is 10\n",
        "\n",
        "# The basic built-in colors:\n",
        "# b: blue\n",
        "# g: green\n",
        "# r: red\n",
        "# c: cyan\n",
        "# m: magenta\n",
        "# y: yellow\n",
        "# k: black\n",
        "# w: white"
      ]
    },
    {
      "cell_type": "markdown",
      "metadata": {
        "id": "0aFAEBqmqh3v"
      },
      "source": [
        "### Set the number of bins to display"
      ]
    },
    {
      "cell_type": "code",
      "execution_count": 7,
      "metadata": {
        "id": "CfmwEl_Tqh3v",
        "outputId": "3a715446-a049-487a-fc14-86e3ceabf782",
        "colab": {
          "base_uri": "https://localhost:8080/",
          "height": 430
        }
      },
      "outputs": [
        {
          "output_type": "display_data",
          "data": {
            "text/plain": [
              "<Figure size 640x480 with 1 Axes>"
            ],
            "image/png": "[encoded data removed]"
          },
          "metadata": {}
        }
      ],
      "source": [
        "fig, ax = plt.subplots()\n",
        "                                                # set the number of bins\n",
        "ax.hist(df['age'], color='g', edgecolor='black', bins = 30);"
      ]
    },
    {
      "cell_type": "markdown",
      "metadata": {
        "id": "zALAEymWqh3v"
      },
      "source": [
        "### Auto-set the number of bins to display"
      ]
    },
    {
      "cell_type": "code",
      "execution_count": 8,
      "metadata": {
        "id": "yo9l4Lndqh3v",
        "outputId": "0cc488e9-3bea-481d-8afc-dcb62ee71a36",
        "colab": {
          "base_uri": "https://localhost:8080/",
          "height": 430
        }
      },
      "outputs": [
        {
          "output_type": "display_data",
          "data": {
            "text/plain": [
              "<Figure size 640x480 with 1 Axes>"
            ],
            "image/png": "[encoded data removed]"
          },
          "metadata": {}
        }
      ],
      "source": [
        "fig, ax = plt.subplots()\n",
        "                                                # auto-set the number of bins\n",
        "                                                # \"ideal\" number of bins that most faithfully represent your data.\n",
        "ax.hist(df['age'], color='g', edgecolor='black', bins = \"auto\");"
      ]
    },
    {
      "cell_type": "markdown",
      "metadata": {
        "id": "OF-oX9h4qh3v"
      },
      "source": [
        "### Set a custom color\n",
        "\n",
        "[Named Colors](https://matplotlib.org/stable/gallery/color/named_colors.html)\n",
        "\n",
        "[HTML Color Codes](https://htmlcolorcodes.com)"
      ]
    },
    {
      "cell_type": "code",
      "execution_count": 9,
      "metadata": {
        "id": "MBWCl-XKqh3w",
        "outputId": "6cb7e445-381e-4553-bcb3-ab13c43d9340",
        "colab": {
          "base_uri": "https://localhost:8080/",
          "height": 472
        }
      },
      "outputs": [
        {
          "output_type": "display_data",
          "data": {
            "text/plain": [
              "<Figure size 640x480 with 1 Axes>"
            ],
            "image/png": "[encoded data removed]"
          },
          "metadata": {}
        }
      ],
      "source": [
        "fig, ax = plt.subplots()\n",
        "\n",
        "                        # custom colors\n",
        "ax.hist(df['age'], color = '#6399EB', edgecolor='black')\n",
        "\n",
        "ax.set_title(\"Histogram\")\n",
        "ax.set_xlabel(\"Age\");"
      ]
    },
    {
      "cell_type": "markdown",
      "metadata": {
        "id": "dT89rySnqh3w"
      },
      "source": [
        "---"
      ]
    },
    {
      "cell_type": "markdown",
      "metadata": {
        "id": "LJwxxODuqh3w"
      },
      "source": [
        "## Style the chart"
      ]
    },
    {
      "cell_type": "markdown",
      "metadata": {
        "id": "RX_nC4vbqh3w"
      },
      "source": [
        "### Format the labels (increase font size)"
      ]
    },
    {
      "cell_type": "code",
      "execution_count": 10,
      "metadata": {
        "id": "PH9KrFrdqh3w",
        "outputId": "5f2784dc-8421-4a3a-8640-579fb1a01676",
        "colab": {
          "base_uri": "https://localhost:8080/",
          "height": 480
        }
      },
      "outputs": [
        {
          "output_type": "display_data",
          "data": {
            "text/plain": [
              "<Figure size 640x480 with 1 Axes>"
            ],
            "image/png": "[encoded data removed]"
          },
          "metadata": {}
        }
      ],
      "source": [
        "fig, ax = plt.subplots()\n",
        "\n",
        "ax.hist(df['age'], color = '#9616FA', edgecolor='black')\n",
        "\n",
        "# Increase the font size of the labels\n",
        "ax.set_title('Histogram', fontsize=16)\n",
        "ax.set_xlabel('Age', fontsize=16);"
      ]
    },
    {
      "cell_type": "markdown",
      "metadata": {
        "id": "AfWXPM_Fqh3w"
      },
      "source": [
        "### Customize the ticks"
      ]
    },
    {
      "cell_type": "code",
      "execution_count": 18,
      "metadata": {
        "id": "nHvuD4Noqh3w",
        "outputId": "71d3b98e-4b0e-41d8-df26-56e887fc4d69",
        "colab": {
          "base_uri": "https://localhost:8080/",
          "height": 482
        }
      },
      "outputs": [
        {
          "output_type": "display_data",
          "data": {
            "text/plain": [
              "<Figure size 640x480 with 1 Axes>"
            ],
            "image/png": "[encoded data removed]"
          },
          "metadata": {}
        }
      ],
      "source": [
        "fig, ax = plt.subplots()\n",
        "\n",
        "ax.hist(df['age'], color = '#33ffac', edgecolor='black')\n",
        "\n",
        "ax.set_title('Histogram', fontsize=16)\n",
        "ax.set_xlabel('Age', fontsize=16)\n",
        "\n",
        "# Customize the ticks\n",
        "ax.tick_params(color=\"purple\", width=3, length=5);"
      ]
    },
    {
      "cell_type": "markdown",
      "metadata": {
        "id": "4admLh1-qh3w"
      },
      "source": [
        "### Customize the tick labels (color and size)"
      ]
    },
    {
      "cell_type": "code",
      "execution_count": 12,
      "metadata": {
        "id": "4VuuZa26qh3w",
        "outputId": "3f190b5b-0e43-415a-fb70-87f9f9dd355b",
        "colab": {
          "base_uri": "https://localhost:8080/",
          "height": 486
        }
      },
      "outputs": [
        {
          "output_type": "display_data",
          "data": {
            "text/plain": [
              "<Figure size 640x480 with 1 Axes>"
            ],
            "image/png": "[encoded data removed]"
          },
          "metadata": {}
        }
      ],
      "source": [
        "fig, ax = plt.subplots()\n",
        "\n",
        "ax.hist(df['age'], color = '#9616FA', edgecolor='black')\n",
        "\n",
        "ax.set_title('Histogram', fontsize=16)\n",
        "ax.set_xlabel('Age', fontsize=16)\n",
        "\n",
        "# Customize the tick labels\n",
        "ax.tick_params(labelsize=16, labelcolor=\"purple\");"
      ]
    },
    {
      "cell_type": "markdown",
      "metadata": {
        "id": "-AdIEV-uqh3w"
      },
      "source": [
        "### Customize only a specific axis"
      ]
    },
    {
      "cell_type": "code",
      "execution_count": 19,
      "metadata": {
        "id": "2_4MYJuuqh3w",
        "outputId": "18ddb6d5-16d3-427b-f0fc-eb0e497a2b37",
        "colab": {
          "base_uri": "https://localhost:8080/",
          "height": 480
        }
      },
      "outputs": [
        {
          "output_type": "display_data",
          "data": {
            "text/plain": [
              "<Figure size 640x480 with 1 Axes>"
            ],
            "image/png": "[encoded data removed]"
          },
          "metadata": {}
        }
      ],
      "source": [
        "fig, ax = plt.subplots()\n",
        "\n",
        "ax.hist(df['age'], color = '#ff33ea', edgecolor='black')\n",
        "\n",
        "ax.set_title('Histogram', fontsize=16)\n",
        "ax.set_xlabel('Age', fontsize=16)\n",
        "\n",
        "# Customize the ticks of a specific axis\n",
        "ax.tick_params(axis='y', labelsize=16, labelcolor=\"purple\", color=\"purple\", width=3, length=5);"
      ]
    },
    {
      "cell_type": "markdown",
      "metadata": {
        "id": "BKn3HMN1qh3w"
      },
      "source": [
        "---"
      ]
    },
    {
      "cell_type": "markdown",
      "metadata": {
        "id": "V46_gsSlqh3w"
      },
      "source": [
        "## Continuous x categorical (age x gender)"
      ]
    },
    {
      "cell_type": "markdown",
      "metadata": {
        "id": "aSrCaa4vqh3w"
      },
      "source": [
        "### Create paired histograms"
      ]
    },
    {
      "cell_type": "code",
      "execution_count": 14,
      "metadata": {
        "id": "HQ_SGxoiqh3w",
        "outputId": "f77c1d57-ab80-419c-94b3-aa8b74a09b70",
        "colab": {
          "base_uri": "https://localhost:8080/",
          "height": 472
        }
      },
      "outputs": [
        {
          "output_type": "display_data",
          "data": {
            "text/plain": [
              "<Figure size 640x480 with 1 Axes>"
            ],
            "image/png": "[encoded data removed]"
          },
          "metadata": {}
        }
      ],
      "source": [
        "fig, ax = plt.subplots()\n",
        "\n",
        "# The data\n",
        "female_ages = df.loc[df['sex']==\"female\", \"age\"]\n",
        "male_ages = df.loc[df['sex']==\"male\", \"age\"]\n",
        "\n",
        "        # List of ages by gender (for paired histogram)\n",
        "ax.hist([female_ages, male_ages], color=['pink', \"cornflowerblue\"], edgecolor='black')\n",
        "\n",
        "ax.set(xlabel=\"Age\", title=\"Histogram\");"
      ]
    },
    {
      "cell_type": "markdown",
      "metadata": {
        "id": "a2JHk9Phqh3w"
      },
      "source": [
        "### Add a legend"
      ]
    },
    {
      "cell_type": "code",
      "execution_count": 15,
      "metadata": {
        "id": "ZfMiyVsdqh3w",
        "outputId": "d4e3d54a-4166-4998-ecc4-4d47842d7ac5",
        "colab": {
          "base_uri": "https://localhost:8080/",
          "height": 472
        }
      },
      "outputs": [
        {
          "output_type": "display_data",
          "data": {
            "text/plain": [
              "<Figure size 640x480 with 1 Axes>"
            ],
            "image/png": "[encoded data removed]"
          },
          "metadata": {}
        }
      ],
      "source": [
        "fig, ax = plt.subplots()\n",
        "\n",
        "# The data\n",
        "females_age = df.loc[df['sex']==\"female\", \"age\"]\n",
        "males_age = df.loc[df['sex']==\"male\", \"age\"]\n",
        "\n",
        "ax.hist([females_age, males_age], color=['pink',\"cornflowerblue\"], edgecolor='black')\n",
        "\n",
        "ax.set(xlabel=\"Age\", title=\"Histogram\")\n",
        "\n",
        "plt.legend([\"female\", \"male\"]);  # <-- display a legend"
      ]
    },
    {
      "cell_type": "markdown",
      "metadata": {
        "id": "IO0ozQTqqh3w"
      },
      "source": [
        "### Create a stacked histogram"
      ]
    },
    {
      "cell_type": "code",
      "execution_count": 20,
      "metadata": {
        "id": "zJUyd4i4qh3w",
        "outputId": "52fa907f-e44e-423d-e96a-1fce540f84b4",
        "colab": {
          "base_uri": "https://localhost:8080/",
          "height": 472
        }
      },
      "outputs": [
        {
          "output_type": "display_data",
          "data": {
            "text/plain": [
              "<Figure size 640x480 with 1 Axes>"
            ],
            "image/png": "[encoded data removed]"
          },
          "metadata": {}
        }
      ],
      "source": [
        "fig, ax = plt.subplots()\n",
        "\n",
        "# The data\n",
        "females_age = df.loc[df['sex']==\"female\", \"age\"]\n",
        "males_age = df.loc[df['sex']==\"male\", \"age\"]\n",
        "\n",
        "\n",
        "      #  on bottom     on top                                                          # set stacked to True\n",
        "ax.hist([females_age, males_age], color = [\"pink\", 'cornflowerblue'], edgecolor=\"black\", stacked=True)\n",
        "\n",
        "ax.set(xlabel=\"Age\", title=\"Histogram\")\n",
        "\n",
        "plt.legend([\"female\", \"male\"]);"
      ]
    },
    {
      "cell_type": "markdown",
      "metadata": {
        "id": "g0wo8rooqh3w"
      },
      "source": [
        "---"
      ]
    }
  ],
  "metadata": {
    "kernelspec": {
      "display_name": "Python 3 (ipykernel)",
      "language": "python",
      "name": "python3"
    },
    "language_info": {
      "codemirror_mode": {
        "name": "ipython",
        "version": 3
      },
      "file_extension": ".py",
      "mimetype": "text/x-python",
      "name": "python",
      "nbconvert_exporter": "python",
      "pygments_lexer": "ipython3",
      "version": "3.12.7"
    },
    "colab": {
      "provenance": [],
      "include_colab_link": true
    }
  },
  "nbformat": 4,
  "nbformat_minor": 0
}