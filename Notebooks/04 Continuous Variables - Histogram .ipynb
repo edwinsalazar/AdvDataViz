{
 "cells": [
  {
   "cell_type": "markdown",
   "metadata": {},
   "source": [
    "# Continuous Variables - Histogram"
   ]
  },
  {
   "cell_type": "code",
   "execution_count": null,
   "metadata": {},
   "outputs": [],
   "source": [
    "import pandas as pd\n",
    "import matplotlib.pyplot as plt"
   ]
  },
  {
   "cell_type": "markdown",
   "metadata": {},
   "source": [
    "### Dataset: Heart Disease"
   ]
  },
  {
   "cell_type": "code",
   "execution_count": null,
   "metadata": {},
   "outputs": [],
   "source": [
    "df = pd.read_csv(\"heart-disease.csv\")\n",
    "\n",
    "df.head()"
   ]
  },
  {
   "cell_type": "markdown",
   "metadata": {},
   "source": [
    "---"
   ]
  },
  {
   "cell_type": "markdown",
   "metadata": {},
   "source": [
    "# Histogram"
   ]
  },
  {
   "cell_type": "code",
   "execution_count": null,
   "metadata": {},
   "outputs": [],
   "source": [
    "fig, ax = plt.subplots()\n",
    "\n",
    "ax.hist(df['age'], color='g', edgecolor='black'); # the default number of bins is 10\n",
    "\n",
    "# The basic built-in colors:\n",
    "# b: blue\n",
    "# g: green\n",
    "# r: red\n",
    "# c: cyan\n",
    "# m: magenta\n",
    "# y: yellow\n",
    "# k: black\n",
    "# w: white"
   ]
  },
  {
   "cell_type": "markdown",
   "metadata": {},
   "source": [
    "### Set the number of bins to display"
   ]
  },
  {
   "cell_type": "code",
   "execution_count": null,
   "metadata": {},
   "outputs": [],
   "source": [
    "fig, ax = plt.subplots()\n",
    "                                                # set the number of bins\n",
    "ax.hist(df['age'], color='g', edgecolor='black', bins = 30);"
   ]
  },
  {
   "cell_type": "markdown",
   "metadata": {},
   "source": [
    "### Auto-set the number of bins to display"
   ]
  },
  {
   "cell_type": "code",
   "execution_count": null,
   "metadata": {},
   "outputs": [],
   "source": [
    "fig, ax = plt.subplots()\n",
    "                                                # auto-set the number of bins\n",
    "                                                # \"ideal\" number of bins that most faithfully represent your data.\n",
    "ax.hist(df['age'], color='g', edgecolor='black', bins = \"auto\");"
   ]
  },
  {
   "cell_type": "markdown",
   "metadata": {},
   "source": [
    "### Set a custom color\n",
    "\n",
    "[Named Colors](https://matplotlib.org/stable/gallery/color/named_colors.html)\n",
    "\n",
    "[HTML Color Codes](https://htmlcolorcodes.com)"
   ]
  },
  {
   "cell_type": "code",
   "execution_count": null,
   "metadata": {},
   "outputs": [],
   "source": [
    "fig, ax = plt.subplots()\n",
    "\n",
    "                        # custom colors\n",
    "ax.hist(df['age'], color = '#6399EB', edgecolor='black')\n",
    "\n",
    "ax.set_title(\"Histogram\")\n",
    "ax.set_xlabel(\"Age\");"
   ]
  },
  {
   "cell_type": "markdown",
   "metadata": {},
   "source": [
    "---"
   ]
  },
  {
   "cell_type": "markdown",
   "metadata": {},
   "source": [
    "## Style the chart"
   ]
  },
  {
   "cell_type": "markdown",
   "metadata": {},
   "source": [
    "### Format the labels (increase font size)"
   ]
  },
  {
   "cell_type": "code",
   "execution_count": null,
   "metadata": {},
   "outputs": [],
   "source": [
    "fig, ax = plt.subplots()\n",
    "\n",
    "ax.hist(df['age'], color = '#9616FA', edgecolor='black')\n",
    "\n",
    "# Increase the font size of the labels\n",
    "ax.set_title('Histogram', fontsize=16)\n",
    "ax.set_xlabel('Age', fontsize=16);"
   ]
  },
  {
   "cell_type": "markdown",
   "metadata": {},
   "source": [
    "### Customize the ticks"
   ]
  },
  {
   "cell_type": "code",
   "execution_count": null,
   "metadata": {},
   "outputs": [],
   "source": [
    "fig, ax = plt.subplots()\n",
    "\n",
    "ax.hist(df['age'], color = '#9616FA', edgecolor='black')\n",
    "\n",
    "ax.set_title('Histogram', fontsize=16)\n",
    "ax.set_xlabel('Age', fontsize=16)\n",
    "\n",
    "# Customize the ticks\n",
    "ax.tick_params(color=\"purple\", width=3, length=5);"
   ]
  },
  {
   "cell_type": "markdown",
   "metadata": {},
   "source": [
    "### Customize the tick labels (color and size)"
   ]
  },
  {
   "cell_type": "code",
   "execution_count": null,
   "metadata": {},
   "outputs": [],
   "source": [
    "fig, ax = plt.subplots()\n",
    "\n",
    "ax.hist(df['age'], color = '#9616FA', edgecolor='black')\n",
    "\n",
    "ax.set_title('Histogram', fontsize=16)\n",
    "ax.set_xlabel('Age', fontsize=16)\n",
    "\n",
    "# Customize the tick labels\n",
    "ax.tick_params(labelsize=16, labelcolor=\"purple\");"
   ]
  },
  {
   "cell_type": "markdown",
   "metadata": {},
   "source": [
    "### Customize only a specific axis"
   ]
  },
  {
   "cell_type": "code",
   "execution_count": null,
   "metadata": {},
   "outputs": [],
   "source": [
    "fig, ax = plt.subplots()\n",
    "\n",
    "ax.hist(df['age'], color = '#9616FA', edgecolor='black')\n",
    "\n",
    "ax.set_title('Histogram', fontsize=16)\n",
    "ax.set_xlabel('Age', fontsize=16)\n",
    "\n",
    "# Customize the ticks of a specific axis\n",
    "ax.tick_params(axis='y', labelsize=16, labelcolor=\"purple\", color=\"purple\", width=3, length=5);"
   ]
  },
  {
   "cell_type": "markdown",
   "metadata": {},
   "source": [
    "---"
   ]
  },
  {
   "cell_type": "markdown",
   "metadata": {},
   "source": [
    "## Continuous x categorical (age x gender)"
   ]
  },
  {
   "cell_type": "markdown",
   "metadata": {},
   "source": [
    "### Create paired histograms"
   ]
  },
  {
   "cell_type": "code",
   "execution_count": null,
   "metadata": {},
   "outputs": [],
   "source": [
    "fig, ax = plt.subplots()\n",
    "\n",
    "# The data\n",
    "female_ages = df.loc[df['sex']==\"female\", \"age\"]\n",
    "male_ages = df.loc[df['sex']==\"male\", \"age\"]\n",
    "\n",
    "        # List of ages by gender (for paired histogram)\n",
    "ax.hist([female_ages, male_ages], color=['pink', \"cornflowerblue\"], edgecolor='black')\n",
    "\n",
    "ax.set(xlabel=\"Age\", title=\"Histogram\");"
   ]
  },
  {
   "cell_type": "markdown",
   "metadata": {},
   "source": [
    "### Add a legend"
   ]
  },
  {
   "cell_type": "code",
   "execution_count": null,
   "metadata": {},
   "outputs": [],
   "source": [
    "fig, ax = plt.subplots()\n",
    "\n",
    "# The data\n",
    "females_age = df.loc[df['sex']==\"female\", \"age\"]\n",
    "males_age = df.loc[df['sex']==\"male\", \"age\"]\n",
    "\n",
    "ax.hist([females_age, males_age], color=['pink',\"cornflowerblue\"], edgecolor='black')\n",
    "\n",
    "ax.set(xlabel=\"Age\", title=\"Histogram\")\n",
    "\n",
    "plt.legend([\"female\", \"male\"]);  # <-- display a legend"
   ]
  },
  {
   "cell_type": "markdown",
   "metadata": {},
   "source": [
    "### Create a stacked histogram"
   ]
  },
  {
   "cell_type": "code",
   "execution_count": null,
   "metadata": {},
   "outputs": [],
   "source": [
    "fig, ax = plt.subplots()\n",
    "\n",
    "# The data\n",
    "females_age = df.loc[df['sex']==\"female\", \"age\"]\n",
    "males_age = df.loc[df['sex']==\"male\", \"age\"]\n",
    "\n",
    "                                      \n",
    "      #  on bottom     on top                                                          # set stacked to True\n",
    "ax.hist([females_age, males_age], color = [\"pink\", 'cornflowerblue'], edgecolor=\"black\", stacked=True)\n",
    "\n",
    "ax.set(xlabel=\"Age\", title=\"Histogram\")\n",
    "       \n",
    "plt.legend([\"female\", \"male\"]);"
   ]
  },
  {
   "cell_type": "markdown",
   "metadata": {},
   "source": [
    "---"
   ]
  }
 ],
 "metadata": {
  "kernelspec": {
   "display_name": "Python 3 (ipykernel)",
   "language": "python",
   "name": "python3"
  },
  "language_info": {
   "codemirror_mode": {
    "name": "ipython",
    "version": 3
   },
   "file_extension": ".py",
   "mimetype": "text/x-python",
   "name": "python",
   "nbconvert_exporter": "python",
   "pygments_lexer": "ipython3",
   "version": "3.12.7"
  }
 },
 "nbformat": 4,
 "nbformat_minor": 4
}
