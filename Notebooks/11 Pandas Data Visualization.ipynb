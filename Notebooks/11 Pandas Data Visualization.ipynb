{
 "cells": [
  {
   "cell_type": "markdown",
   "metadata": {},
   "source": [
    "# Pandas Data Visualization"
   ]
  },
  {
   "cell_type": "code",
   "execution_count": null,
   "metadata": {},
   "outputs": [],
   "source": [
    "import pandas as pd\n",
    "import matplotlib.pyplot as plt"
   ]
  },
  {
   "cell_type": "code",
   "execution_count": null,
   "metadata": {},
   "outputs": [],
   "source": [
    "df = pd.read_csv(\"heart-disease.csv\")\n",
    "df.head()"
   ]
  },
  {
   "cell_type": "markdown",
   "metadata": {},
   "source": [
    "---"
   ]
  },
  {
   "cell_type": "markdown",
   "metadata": {},
   "source": [
    "# Line Plot"
   ]
  },
  {
   "cell_type": "markdown",
   "metadata": {},
   "source": [
    "## Column"
   ]
  },
  {
   "cell_type": "code",
   "execution_count": null,
   "metadata": {},
   "outputs": [],
   "source": [
    "# x-axis defaults to the row's index number\n",
    "\n",
    "df[\"age\"].plot(kind=\"line\");"
   ]
  },
  {
   "cell_type": "markdown",
   "metadata": {},
   "source": [
    "### You can set many of the plot's parameters within the plot() method."
   ]
  },
  {
   "cell_type": "code",
   "execution_count": null,
   "metadata": {},
   "outputs": [],
   "source": [
    "df[\"age\"].plot(kind=\"line\", figsize=(10,5), title=\"Pandas Line Plot\");"
   ]
  },
  {
   "cell_type": "markdown",
   "metadata": {},
   "source": [
    "### Multiple columns"
   ]
  },
  {
   "cell_type": "code",
   "execution_count": null,
   "metadata": {},
   "outputs": [],
   "source": [
    "df[[\"age\", \"max_hr\"]].plot(kind=\"line\", figsize=(10,5), title=\"Pandas Line Plot\");"
   ]
  },
  {
   "cell_type": "markdown",
   "metadata": {},
   "source": [
    "---"
   ]
  },
  {
   "cell_type": "markdown",
   "metadata": {},
   "source": [
    "## DataFrame"
   ]
  },
  {
   "cell_type": "code",
   "execution_count": null,
   "metadata": {},
   "outputs": [],
   "source": [
    "# x-axis defaults to the row's index number\n",
    "\n",
    "df.plot(y=\"age\", kind=\"line\", figsize=(10,5), title=\"Pandas Line Plot\");"
   ]
  },
  {
   "cell_type": "markdown",
   "metadata": {},
   "source": [
    "### Multiple columns"
   ]
  },
  {
   "cell_type": "code",
   "execution_count": null,
   "metadata": {},
   "outputs": [],
   "source": [
    "df.plot(y=[\"age\", \"max_hr\"], kind=\"line\", figsize=(10,5), title=\"Pandas Line Plot\");"
   ]
  },
  {
   "cell_type": "markdown",
   "metadata": {},
   "source": [
    "### Set a custom style"
   ]
  },
  {
   "cell_type": "code",
   "execution_count": null,
   "metadata": {},
   "outputs": [],
   "source": [
    "df.plot(kind=\"line\", y=[\"age\", \"max_hr\"], \n",
    "             figsize=(10,5), title=\"Pandas Line Plot\",\n",
    "             style=['b-o', 'r--']); # 'b:', 'r-.'"
   ]
  },
  {
   "cell_type": "markdown",
   "metadata": {},
   "source": [
    "### Define subplots to render plots in separate axes."
   ]
  },
  {
   "cell_type": "code",
   "execution_count": null,
   "metadata": {},
   "outputs": [],
   "source": [
    "df.plot(kind=\"line\",  y=[\"age\", \"max_hr\"],\n",
    "             figsize=(12,5), title=[\"age\", \"max_hr\"],\n",
    "             subplots=True, layout=(1,2))\n",
    "\n",
    "# Set the title of the whole figure\n",
    "plt.suptitle(\"A Pair of Line Plots\", fontsize=16);"
   ]
  },
  {
   "cell_type": "markdown",
   "metadata": {},
   "source": [
    "---"
   ]
  },
  {
   "cell_type": "markdown",
   "metadata": {},
   "source": [
    "# Histogram"
   ]
  },
  {
   "cell_type": "markdown",
   "metadata": {},
   "source": [
    "## Column"
   ]
  },
  {
   "cell_type": "code",
   "execution_count": null,
   "metadata": {},
   "outputs": [],
   "source": [
    "# Set legend=True to display a legend (defaults to False when plotting from a column)\n",
    "\n",
    "df[\"age\"].plot(kind=\"hist\", color=\"purple\", \n",
    "               edgecolor='black', title=\"Age Histogram\", legend=True);"
   ]
  },
  {
   "cell_type": "markdown",
   "metadata": {},
   "source": [
    "## DataFrame"
   ]
  },
  {
   "cell_type": "code",
   "execution_count": null,
   "metadata": {},
   "outputs": [],
   "source": [
    "# Set legend=False to not display a legend (defaults to True when plotting from a DataFrame)\n",
    "\n",
    "df.plot(y=\"age\", kind=\"hist\", color=\"purple\", \n",
    "        edgecolor='black', title=\"Age Histogram\", figsize=(10, 5), legend=False);"
   ]
  },
  {
   "cell_type": "markdown",
   "metadata": {},
   "source": [
    "---"
   ]
  },
  {
   "cell_type": "markdown",
   "metadata": {},
   "source": [
    "# Bar Plot"
   ]
  },
  {
   "cell_type": "markdown",
   "metadata": {},
   "source": [
    "### Categorical variable"
   ]
  },
  {
   "cell_type": "code",
   "execution_count": null,
   "metadata": {},
   "outputs": [],
   "source": [
    "df[\"chest_pain\"].value_counts()"
   ]
  },
  {
   "cell_type": "code",
   "execution_count": null,
   "metadata": {},
   "outputs": [],
   "source": [
    "df[\"chest_pain\"].value_counts().plot(kind=\"bar\", title=\"Chest Pain\");"
   ]
  },
  {
   "cell_type": "markdown",
   "metadata": {},
   "source": [
    "### Rotate the ticks and increase font size"
   ]
  },
  {
   "cell_type": "code",
   "execution_count": null,
   "metadata": {},
   "outputs": [],
   "source": [
    "df[\"chest_pain\"].value_counts().plot(kind=\"bar\", title=\"Chest Pain\",\n",
    "                                 rot=\"horizontal\", fontsize=16);"
   ]
  },
  {
   "cell_type": "markdown",
   "metadata": {},
   "source": [
    "### Sort in ascending order"
   ]
  },
  {
   "cell_type": "code",
   "execution_count": null,
   "metadata": {},
   "outputs": [],
   "source": [
    "                            # Set ascending to True\n",
    "df[\"chest_pain\"].value_counts(ascending=True).plot(kind=\"bar\", title=\"Chest Pain\",\n",
    "                                 rot=\"horizontal\", fontsize=16);"
   ]
  },
  {
   "cell_type": "markdown",
   "metadata": {},
   "source": [
    "### Display in order of index position"
   ]
  },
  {
   "cell_type": "code",
   "execution_count": null,
   "metadata": {},
   "outputs": [],
   "source": [
    "                          # Set sort to False\n",
    "df[\"chest_pain\"].value_counts(sort=False).plot(kind=\"bar\", title=\"Chest Pain\",\n",
    "                                 rot=\"horizontal\", fontsize=16);"
   ]
  },
  {
   "cell_type": "markdown",
   "metadata": {},
   "source": [
    "## Horizontal bar plot"
   ]
  },
  {
   "cell_type": "code",
   "execution_count": null,
   "metadata": {},
   "outputs": [],
   "source": [
    "df[\"chest_pain\"].value_counts().plot(kind=\"barh\", color=\"magenta\", fontsize=16);"
   ]
  },
  {
   "cell_type": "markdown",
   "metadata": {},
   "source": [
    "---"
   ]
  },
  {
   "cell_type": "markdown",
   "metadata": {},
   "source": [
    "# Joint: categorical x aggregated continuous variable"
   ]
  },
  {
   "cell_type": "markdown",
   "metadata": {},
   "source": [
    "## Groupby and Aggregate\n",
    "Group by a categorical variable and aggregate over a continuous variable"
   ]
  },
  {
   "cell_type": "code",
   "execution_count": null,
   "metadata": {
    "scrolled": true
   },
   "outputs": [],
   "source": [
    "df.head()"
   ]
  },
  {
   "cell_type": "markdown",
   "metadata": {},
   "source": [
    "### groupby()"
   ]
  },
  {
   "cell_type": "code",
   "execution_count": null,
   "metadata": {},
   "outputs": [],
   "source": [
    "# 1 categorical variable and 3 continuous variables\n",
    "# Get the mean value of the continuous variables for each category of the categorical variable\n",
    "\n",
    "   # Categorical    # Continuous variables\n",
    "df[[\"chest_pain\", \"rest_bp\", \"max_hr\", \"age\"]].groupby([\"chest_pain\"]).mean()"
   ]
  },
  {
   "cell_type": "markdown",
   "metadata": {},
   "source": [
    "### Bar plot"
   ]
  },
  {
   "cell_type": "code",
   "execution_count": null,
   "metadata": {},
   "outputs": [],
   "source": [
    "colors=[\"cornflowerblue\", \"slateblue\", \"mediumblue\"]\n",
    "\n",
    "   # Categorical    # Continuous variables\n",
    "df[[\"chest_pain\", \"rest_bp\", \"max_hr\", \"age\"]].groupby([\"chest_pain\"]).mean().plot(kind=\"bar\", color=colors);"
   ]
  },
  {
   "cell_type": "markdown",
   "metadata": {},
   "source": [
    "### Stacked bar plot"
   ]
  },
  {
   "cell_type": "code",
   "execution_count": null,
   "metadata": {},
   "outputs": [],
   "source": [
    "colors=[\"cornflowerblue\", \"slateblue\", \"mediumblue\"]\n",
    "\n",
    "   # Categorical    # Continuous variables\n",
    "df[[\"chest_pain\", \"rest_bp\", \"max_hr\", \"age\"]].groupby([\"chest_pain\"]).mean().plot(kind=\"bar\", \n",
    "                                                                                   color=colors, stacked=True);"
   ]
  },
  {
   "cell_type": "markdown",
   "metadata": {},
   "source": [
    "### Relocate the legend"
   ]
  },
  {
   "cell_type": "code",
   "execution_count": null,
   "metadata": {},
   "outputs": [],
   "source": [
    "colors=[\"cornflowerblue\", \"slateblue\", \"mediumblue\"]\n",
    "\n",
    "   # Categorical    # Continuous variables\n",
    "df[[\"chest_pain\", \"rest_bp\", \"max_hr\", \"age\"]].groupby([\"chest_pain\"]).mean().plot(kind=\"bar\", \n",
    "                                                                                   color=colors, stacked=True);\n",
    "\n",
    "# Display a legend (just outside of the plot; up 1, and over to the right 1)\n",
    "plt.legend(bbox_to_anchor=(1, 1)); "
   ]
  },
  {
   "cell_type": "markdown",
   "metadata": {},
   "source": [
    "---"
   ]
  },
  {
   "cell_type": "markdown",
   "metadata": {},
   "source": [
    "# Box Plot"
   ]
  },
  {
   "cell_type": "code",
   "execution_count": null,
   "metadata": {},
   "outputs": [],
   "source": [
    "df.plot( y=\"age\", kind=\"box\", color=\"purple\", title=\"Age Box plot\");"
   ]
  },
  {
   "cell_type": "markdown",
   "metadata": {},
   "source": [
    "---"
   ]
  },
  {
   "cell_type": "markdown",
   "metadata": {},
   "source": [
    "# Scatter Plot"
   ]
  },
  {
   "cell_type": "code",
   "execution_count": null,
   "metadata": {},
   "outputs": [],
   "source": [
    "df.plot(kind=\"scatter\", x=\"age\", y=\"max_hr\", title=\"Age x Max HR\", \n",
    "        s=300, color=\"red\", alpha=.3, figsize=(10, 5));"
   ]
  },
  {
   "cell_type": "markdown",
   "metadata": {},
   "source": [
    "---"
   ]
  }
 ],
 "metadata": {
  "kernelspec": {
   "display_name": "Python 3 (ipykernel)",
   "language": "python",
   "name": "python3"
  },
  "language_info": {
   "codemirror_mode": {
    "name": "ipython",
    "version": 3
   },
   "file_extension": ".py",
   "mimetype": "text/x-python",
   "name": "python",
   "nbconvert_exporter": "python",
   "pygments_lexer": "ipython3",
   "version": "3.12.7"
  }
 },
 "nbformat": 4,
 "nbformat_minor": 4
}
