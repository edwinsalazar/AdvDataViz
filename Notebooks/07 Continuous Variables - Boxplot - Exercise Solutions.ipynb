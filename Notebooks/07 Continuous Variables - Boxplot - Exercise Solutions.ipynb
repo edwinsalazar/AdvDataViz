{
 "cells": [
  {
   "cell_type": "markdown",
   "metadata": {},
   "source": [
    "# Continuous Variables - Boxplot - Exercise Solutions"
   ]
  },
  {
   "cell_type": "code",
   "execution_count": null,
   "metadata": {},
   "outputs": [],
   "source": [
    "import pandas as pd\n",
    "import matplotlib.pyplot as plt\n",
    "import numpy as np"
   ]
  },
  {
   "cell_type": "markdown",
   "metadata": {},
   "source": [
    "### Dataset: Student Performance"
   ]
  },
  {
   "cell_type": "code",
   "execution_count": null,
   "metadata": {},
   "outputs": [],
   "source": [
    "df = pd.read_csv(\"student_performance.csv\")\n",
    "df.head()"
   ]
  },
  {
   "cell_type": "markdown",
   "metadata": {},
   "source": [
    "### Use math and reading scores for exercises"
   ]
  },
  {
   "cell_type": "code",
   "execution_count": null,
   "metadata": {},
   "outputs": [],
   "source": [
    "math_score = df[\"math score\"]\n",
    "reading_score = df[\"reading score\"]"
   ]
  },
  {
   "cell_type": "markdown",
   "metadata": {},
   "source": [
    "### Use simulated machine learning scores for exercises"
   ]
  },
  {
   "cell_type": "code",
   "execution_count": null,
   "metadata": {},
   "outputs": [],
   "source": [
    "# Simulated machine Learning 10-fold cross-validation performance scores\n",
    "# Randomly generated values\n",
    "LR = np.random.rand(10)  # Logistic Regression\n",
    "SVM = np.random.rand(10) # Support Vector Machine\n",
    "RF = np.random.rand(10)  # Random Forest\n",
    "KNN = np.random.rand(10) # K-Nearest Neighbors"
   ]
  },
  {
   "cell_type": "markdown",
   "metadata": {},
   "source": [
    "---"
   ]
  },
  {
   "cell_type": "markdown",
   "metadata": {},
   "source": [
    "### 1.) Create a box plot of \"math_score\". Set the figsize to (8,4)."
   ]
  },
  {
   "cell_type": "code",
   "execution_count": null,
   "metadata": {},
   "outputs": [],
   "source": [
    "fig, ax = plt.subplots(figsize=(8,4))\n",
    "\n",
    "ax.boxplot(math_score);"
   ]
  },
  {
   "cell_type": "markdown",
   "metadata": {},
   "source": [
    "---"
   ]
  },
  {
   "cell_type": "markdown",
   "metadata": {},
   "source": [
    "### 2.) Create two (paired) box plots in the same axis. Set the figsize to (15, 5).  Create one box plot for \"math_score\" and the other one for \"reading_score. Set the xlabel to \"Tests\" and the ylabel to \"Score\"."
   ]
  },
  {
   "cell_type": "code",
   "execution_count": null,
   "metadata": {},
   "outputs": [],
   "source": [
    "fig, ax = plt.subplots(figsize=(15,5))\n",
    "\n",
    "ax.boxplot([math_score, reading_score])\n",
    "\n",
    "\n",
    "ax.set_xlabel('Tests')\n",
    "ax.set_ylabel('Score');"
   ]
  },
  {
   "cell_type": "markdown",
   "metadata": {},
   "source": [
    "---"
   ]
  },
  {
   "cell_type": "markdown",
   "metadata": {},
   "source": [
    "### 3.) Create box plots within the same axis for each of the four machine learning models (i.e., \"LR\", \"SVM\", \"RF\", \"KNN\"). Set the figsize to (15, 5). Set the x label to \"Classification Models\", the ylabel to \"Accuracy\", and the title to \"Machine Learning\". Set the tick labels to each of the models' respective names. Set the fontsize to 16 for all of the labels."
   ]
  },
  {
   "cell_type": "code",
   "execution_count": null,
   "metadata": {},
   "outputs": [],
   "source": [
    "fig, ax = plt.subplots(figsize = (15, 5))\n",
    "\n",
    "bplot = ax.boxplot([LR, SVM, RF, KNN])\n",
    "\n",
    "ax.set_xlabel('Classification Models', fontsize=16)\n",
    "ax.set_ylabel('Accuracy', fontsize=16)\n",
    "ax.set_title('Machine Learning', fontsize=16)\n",
    "ax.set_xticklabels([\"LR\", \"SVM\", \"RF\", \"KNN\"], fontsize=16);"
   ]
  },
  {
   "cell_type": "markdown",
   "metadata": {},
   "source": [
    "---"
   ]
  },
  {
   "cell_type": "markdown",
   "metadata": {},
   "source": [
    "### 4) Refine the plot above by filling the boxes with color. Use the colors \"cornflowerblue\", \"crimson\", \"gold\", and \"mediumseagreen\". Also, set the median color to white with a linewidth of 4."
   ]
  },
  {
   "cell_type": "code",
   "execution_count": null,
   "metadata": {},
   "outputs": [],
   "source": [
    "fig, ax = plt.subplots(figsize = (15, 5))\n",
    "\n",
    "bplot = ax.boxplot([LR, SVM, RF, KNN], patch_artist=True, medianprops={\"color\":\"white\", \"linewidth\":4})\n",
    "\n",
    "ax.set_xlabel('Classification Models', fontsize=16)\n",
    "ax.set_ylabel('Accuracy', fontsize=16)\n",
    "ax.set_title('Machine Learning', fontsize=16)\n",
    "ax.set_xticklabels([\"LR\", \"SVM\", \"RF\", \"KNN\"], fontsize=16)\n",
    "\n",
    "\n",
    "# colors to use\n",
    "colors = [\"cornflowerblue\", \"crimson\", \"gold\", \"mediumseagreen\"]\n",
    "\n",
    "for patch, color in zip(bplot['boxes'], colors):\n",
    "    patch.set_facecolor(color);"
   ]
  },
  {
   "cell_type": "markdown",
   "metadata": {},
   "source": [
    "---"
   ]
  }
 ],
 "metadata": {
  "kernelspec": {
   "display_name": "Python 3 (ipykernel)",
   "language": "python",
   "name": "python3"
  },
  "language_info": {
   "codemirror_mode": {
    "name": "ipython",
    "version": 3
   },
   "file_extension": ".py",
   "mimetype": "text/x-python",
   "name": "python",
   "nbconvert_exporter": "python",
   "pygments_lexer": "ipython3",
   "version": "3.12.7"
  }
 },
 "nbformat": 4,
 "nbformat_minor": 4
}
