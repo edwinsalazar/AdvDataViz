{
 "cells": [
  {
   "cell_type": "markdown",
   "id": "ca63411c",
   "metadata": {},
   "source": [
    "# Functions"
   ]
  },
  {
   "cell_type": "code",
   "execution_count": null,
   "id": "63fe30d2",
   "metadata": {},
   "outputs": [],
   "source": [
    "import pandas as pd\n",
    "df = pd.read_csv(\"heart-disease.csv\")\n",
    "df[\"sex\"] = df[\"sex\"].map({\"male\":0, \"female\":1})\n",
    "df.head()"
   ]
  },
  {
   "cell_type": "code",
   "execution_count": null,
   "id": "df0f9a54",
   "metadata": {},
   "outputs": [],
   "source": [
    "age = df[\"age\"]"
   ]
  },
  {
   "cell_type": "markdown",
   "id": "f078400a",
   "metadata": {},
   "source": [
    "---"
   ]
  },
  {
   "cell_type": "markdown",
   "id": "b0b7a2af",
   "metadata": {},
   "source": [
    "# Histogram"
   ]
  },
  {
   "cell_type": "code",
   "execution_count": null,
   "id": "efe5662a",
   "metadata": {},
   "outputs": [],
   "source": [
    "def hist(data, color=\"dodgerblue\", label=\"Age\"):\n",
    "    import matplotlib.pyplot as plt\n",
    "    \n",
    "    fig, ax = plt.subplots()\n",
    "    \n",
    "    ax.hist(data, color=color, edgecolor=\"black\")\n",
    "    \n",
    "    ax.set_title('Histogram', fontsize=16)\n",
    "    ax.set_xlabel(label, fontsize=16);\n",
    " "
   ]
  },
  {
   "cell_type": "markdown",
   "id": "9c84bdc2",
   "metadata": {},
   "source": [
    "#### Call the hist() function"
   ]
  },
  {
   "cell_type": "code",
   "execution_count": null,
   "id": "2b5be5f9",
   "metadata": {},
   "outputs": [],
   "source": [
    "# use default color\n",
    "hist(age)"
   ]
  },
  {
   "cell_type": "code",
   "execution_count": null,
   "id": "593c0b83",
   "metadata": {},
   "outputs": [],
   "source": [
    "# use custom color\n",
    "hist(age, color=\"gold\")"
   ]
  },
  {
   "cell_type": "markdown",
   "id": "66155411",
   "metadata": {},
   "source": [
    "---"
   ]
  },
  {
   "cell_type": "markdown",
   "id": "63cd9e9c",
   "metadata": {},
   "source": [
    "# Boxplot"
   ]
  },
  {
   "cell_type": "code",
   "execution_count": null,
   "id": "34f4b993",
   "metadata": {},
   "outputs": [],
   "source": [
    "def boxplot(data, labels=[1], median_color=\"black\", patch_artist=False, box_color=[\"dodgerblue\"]):\n",
    "    import matplotlib.pyplot as plt\n",
    "    \n",
    "    fig, ax = plt.subplots(figsize = (5, 3))\n",
    "    \n",
    "    bplot = ax.boxplot(data, patch_artist=patch_artist,                            \n",
    "                             medianprops={\"color\":median_color, \"linewidth\":2}, tick_labels=labels)\n",
    "    \n",
    "    if patch_artist:                         \n",
    "        for patch, color in zip(bplot['boxes'], box_color):\n",
    "            patch.set_facecolor(color);"
   ]
  },
  {
   "cell_type": "markdown",
   "id": "a2e5d768",
   "metadata": {},
   "source": [
    "#### Call the boxplot() function"
   ]
  },
  {
   "cell_type": "code",
   "execution_count": null,
   "id": "0f7ea8fb",
   "metadata": {},
   "outputs": [],
   "source": [
    "# use defaults\n",
    "boxplot(age)"
   ]
  },
  {
   "cell_type": "code",
   "execution_count": null,
   "id": "d7e73568",
   "metadata": {},
   "outputs": [],
   "source": [
    "# set the label and the median color\n",
    "boxplot(age, labels=[\"age\"], median_color=\"crimson\")"
   ]
  },
  {
   "cell_type": "code",
   "execution_count": null,
   "id": "06e43b8d",
   "metadata": {},
   "outputs": [],
   "source": [
    "# use default box color\n",
    "boxplot(age, labels=[\"age\"], patch_artist=True)"
   ]
  },
  {
   "cell_type": "code",
   "execution_count": null,
   "id": "b89afe3c-e200-41ef-a586-f41f3ecc20e5",
   "metadata": {},
   "outputs": [],
   "source": [
    "# use custom median and box colors\n",
    "boxplot(age, labels=[\"age\"], median_color=\"firebrick\", patch_artist=True, box_color=[\"gold\"])"
   ]
  },
  {
   "cell_type": "markdown",
   "id": "3d6a44c8",
   "metadata": {},
   "source": [
    "---"
   ]
  },
  {
   "cell_type": "markdown",
   "id": "e723af6e",
   "metadata": {},
   "source": [
    "# Scatterplot"
   ]
  },
  {
   "cell_type": "code",
   "execution_count": null,
   "id": "4dd03fe9",
   "metadata": {},
   "outputs": [],
   "source": [
    "def scatter(x, y, alpha=.3, size=200, color=\"mediumblue\"):\n",
    "    import matplotlib.pyplot as plt\n",
    "    \n",
    "    fig, ax = plt.subplots()\n",
    "    \n",
    "    ax.scatter(x=x, y=y, alpha=alpha, s = size, c = color);"
   ]
  },
  {
   "cell_type": "code",
   "execution_count": null,
   "id": "b0021d9d",
   "metadata": {},
   "outputs": [],
   "source": [
    "age = df[\"age\"]\n",
    "max_hr = df[\"max_hr\"]\n",
    "sex = df[\"sex\"]"
   ]
  },
  {
   "cell_type": "markdown",
   "id": "934ec599",
   "metadata": {},
   "source": [
    "#### Call the scatter() function"
   ]
  },
  {
   "cell_type": "code",
   "execution_count": null,
   "id": "33b1d5aa",
   "metadata": {},
   "outputs": [],
   "source": [
    "# use default color\n",
    "scatter(age, max_hr)"
   ]
  },
  {
   "cell_type": "markdown",
   "id": "ef75cfce-4d73-4414-8e7d-a68bb641cd9f",
   "metadata": {},
   "source": [
    "#### Map the color to a categorical column"
   ]
  },
  {
   "cell_type": "code",
   "execution_count": null,
   "id": "5ac5232b-8664-489c-8044-75dcd4ed4905",
   "metadata": {},
   "outputs": [],
   "source": [
    "scatter(age, max_hr, color=sex)"
   ]
  },
  {
   "cell_type": "markdown",
   "id": "2d0ce892",
   "metadata": {},
   "source": [
    "---"
   ]
  },
  {
   "cell_type": "markdown",
   "id": "0015205c",
   "metadata": {},
   "source": [
    "# Barplot"
   ]
  },
  {
   "cell_type": "code",
   "execution_count": null,
   "id": "18ceb2c4",
   "metadata": {},
   "outputs": [],
   "source": [
    "def bar(labels, height, color=\"deepskyblue\"):\n",
    "    import matplotlib.pyplot as plt\n",
    "\n",
    "    fig, ax = plt.subplots()\n",
    "    ax.bar(x=labels, height=height, color=color, edgecolor=\"black\")"
   ]
  },
  {
   "cell_type": "code",
   "execution_count": null,
   "id": "3162e480",
   "metadata": {},
   "outputs": [],
   "source": [
    "# make \"age\" a categorical variable\n",
    "\n",
    "df[\"age_groups\"] = pd.cut(df[\"age\"], [29, 39, 49, 59, 69, 79], \n",
    "                          labels=[\"thirties\",\"forties\",\"fifties\",\"sixties\", \"seventies\"])\n",
    "\n",
    "height = df[\"age_groups\"].value_counts()\n",
    "height"
   ]
  },
  {
   "cell_type": "markdown",
   "id": "c45a3421",
   "metadata": {},
   "source": [
    "#### Call the bar() function"
   ]
  },
  {
   "cell_type": "code",
   "execution_count": null,
   "id": "744f7a48",
   "metadata": {},
   "outputs": [],
   "source": [
    "# use default color\n",
    "bar(labels=[\"thirties\",\"forties\",\"fifties\",\"sixties\", \"seventies\"], height=height)"
   ]
  },
  {
   "cell_type": "markdown",
   "id": "d70d1b5d",
   "metadata": {},
   "source": [
    "---"
   ]
  },
  {
   "cell_type": "markdown",
   "id": "17fb6ccf",
   "metadata": {},
   "source": [
    "# Pie Chart"
   ]
  },
  {
   "cell_type": "code",
   "execution_count": null,
   "id": "575f3b63",
   "metadata": {},
   "outputs": [],
   "source": [
    "def pie(labels, values, colors):\n",
    "    import matplotlib.pyplot as plt\n",
    "\n",
    "    fig, ax = plt.subplots(figsize = (15, 5))\n",
    "    ax.pie(x=values, labels=labels, colors=colors, autopct='%.1f%%',\n",
    "        wedgeprops = {\"edgecolor\" : \"black\", \n",
    "                      'linewidth': 1, \n",
    "                      'antialiased': True});"
   ]
  },
  {
   "cell_type": "code",
   "execution_count": null,
   "id": "e6847bd5",
   "metadata": {},
   "outputs": [],
   "source": [
    "values = df[\"age_groups\"].value_counts()\n",
    "values"
   ]
  },
  {
   "cell_type": "markdown",
   "id": "646ab798-62da-455a-9eeb-5883cddc0bab",
   "metadata": {},
   "source": [
    "#### Call the pie() function"
   ]
  },
  {
   "cell_type": "code",
   "execution_count": null,
   "id": "af00ffa8-2920-420c-bb32-bdaa07f6c0c6",
   "metadata": {},
   "outputs": [],
   "source": [
    "# use custom colors\n",
    "pie(labels=[\"thirties\",\"forties\",\"fifties\",\"sixties\", \"seventies\"], values=values,\n",
    "       colors=[\"aliceblue\", \"lightblue\", \"deepskyblue\", \"dodgerblue\", \"cyan\"])"
   ]
  },
  {
   "cell_type": "markdown",
   "id": "e1f6fe45",
   "metadata": {},
   "source": [
    "---"
   ]
  }
 ],
 "metadata": {
  "kernelspec": {
   "display_name": "Python 3 (ipykernel)",
   "language": "python",
   "name": "python3"
  },
  "language_info": {
   "codemirror_mode": {
    "name": "ipython",
    "version": 3
   },
   "file_extension": ".py",
   "mimetype": "text/x-python",
   "name": "python",
   "nbconvert_exporter": "python",
   "pygments_lexer": "ipython3",
   "version": "3.12.7"
  }
 },
 "nbformat": 4,
 "nbformat_minor": 5
}
