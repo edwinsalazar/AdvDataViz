{
 "cells": [
  {
   "cell_type": "markdown",
   "metadata": {},
   "source": [
    "# Continuous Variables - Scatterplot - Exercise Solutions"
   ]
  },
  {
   "cell_type": "code",
   "execution_count": null,
   "metadata": {},
   "outputs": [],
   "source": [
    "import pandas as pd\n",
    "import matplotlib.pyplot as plt"
   ]
  },
  {
   "cell_type": "markdown",
   "metadata": {},
   "source": [
    "### Dataset: Student Performance"
   ]
  },
  {
   "cell_type": "code",
   "execution_count": null,
   "metadata": {},
   "outputs": [],
   "source": [
    "df = pd.read_csv(\"student_performance.csv\")\n",
    "df.head()"
   ]
  },
  {
   "cell_type": "markdown",
   "metadata": {},
   "source": [
    "### Use math score, reading score and writing score for the exercises."
   ]
  },
  {
   "cell_type": "code",
   "execution_count": null,
   "metadata": {},
   "outputs": [],
   "source": [
    "gender = df[\"gender\"][:200].map({\"male\":0, \"female\":1})\n",
    "\n",
    "math_score = df[\"math score\"][:200]\n",
    "reading_score = df[\"reading score\"][:200]\n",
    "writing_score = df[\"writing score\"][:200]"
   ]
  },
  {
   "cell_type": "markdown",
   "metadata": {},
   "source": [
    "---"
   ]
  },
  {
   "cell_type": "markdown",
   "metadata": {},
   "source": [
    "### 1.) Make a scatter plot of \"math_score\" and \"reading_score\". Set the alpha to .2, the size to 200, and set its color to \"fuchsia\". "
   ]
  },
  {
   "cell_type": "code",
   "execution_count": null,
   "metadata": {},
   "outputs": [],
   "source": [
    "fig, ax = plt.subplots()\n",
    "\n",
    "ax.scatter(x=math_score, y=reading_score, alpha=.2, s = 200, c = \"fuchsia\");"
   ]
  },
  {
   "cell_type": "markdown",
   "metadata": {},
   "source": [
    "---"
   ]
  },
  {
   "cell_type": "markdown",
   "metadata": {},
   "source": [
    "### 2.) Create a scatterplot of \"math_score\" and \"reading_score\".  Set the alpha to .3 and the size to 200. Set the color to the \"gender\" column and set the colormap (cmap) to \"cool\". Set the xlabel to \"Math\", the ylabel to \"Reading\", and the title to \"Math x Reading\"."
   ]
  },
  {
   "cell_type": "markdown",
   "metadata": {},
   "source": [
    "[Colormaps](https://matplotlib.org/stable/gallery/color/colormap_reference.html)"
   ]
  },
  {
   "cell_type": "code",
   "execution_count": null,
   "metadata": {},
   "outputs": [],
   "source": [
    "fig, ax = plt.subplots()\n",
    "\n",
    "ax.scatter(math_score, reading_score, alpha=.3, s = 200, c = gender, cmap=\"cool\")\n",
    "\n",
    "ax.set_xlabel(\"Math\")\n",
    "ax.set_ylabel(\"Reading\")\n",
    "ax.set_title(\"Math x Reading\");"
   ]
  },
  {
   "cell_type": "markdown",
   "metadata": {},
   "source": [
    "---"
   ]
  },
  {
   "cell_type": "markdown",
   "metadata": {},
   "source": [
    "### 3.) Create a figure with two axes side by side.  Set the figsize to (15,5). \n",
    "\n",
    "### In the left axis, display a scatter plot of \"math_score\" and \"reading_score\". Set the alpha to .3 and the size to 300. Choose a custom color for the plot and set its title to \"Math x Reading. \n",
    "\n",
    "### For the axis on the right, display a scatter plot of \"writing_score\" and \"reading_score\". Set the alpha to .3 and the size to 300. Choose a custom color for the plot and set its title to \"Writing x Reading."
   ]
  },
  {
   "cell_type": "markdown",
   "metadata": {},
   "source": [
    "[HTML Color Codes](https://htmlcolorcodes.com)"
   ]
  },
  {
   "cell_type": "code",
   "execution_count": null,
   "metadata": {},
   "outputs": [],
   "source": [
    "fig, (left, right) = plt.subplots(1, 2, figsize = (15,5))\n",
    "\n",
    "left.scatter(x=math_score, y=reading_score, alpha=.3, s = 300, c = \"#FA166C\")\n",
    "right.scatter(x=writing_score, y=reading_score,  alpha=.3, s = 300, c = \"#16FAD4\")\n",
    "\n",
    "left.set_title(\"Math x Reading\")\n",
    "right.set_title(\"Writing x Reading\");"
   ]
  },
  {
   "cell_type": "markdown",
   "metadata": {},
   "source": [
    "---"
   ]
  },
  {
   "cell_type": "markdown",
   "metadata": {},
   "source": [
    "### 4.) Create a figure with a single axis. Set the figsize to (10,5). Set the xlabel to \"Reading Score\", the ylabel to \"Math/Writing Score\", and the Title to \"Test Scores\". Display the two scatterplots from above within the axis. Add a legend to the upper center displaying \"Math\" and \"Writing\", respectively, in two columns.\n",
    "\n",
    "#### See if you can gather an insight from the visualization."
   ]
  },
  {
   "cell_type": "code",
   "execution_count": null,
   "metadata": {},
   "outputs": [],
   "source": [
    "fig, ax = plt.subplots(figsize = (10,5))\n",
    "\n",
    "\n",
    "ax.scatter(x=math_score, y=reading_score, alpha=.3, s = 300, c = \"#FA166C\", label=\"Math\")\n",
    "ax.scatter(x=writing_score, y=reading_score,  alpha=.3, s = 300, c = \"#16FAD4\", label=\"Writing\")\n",
    "\n",
    "ax.set_xlabel(\"Reading Score\")\n",
    "ax.set_ylabel(\"Math/Writing Score\")\n",
    "ax.set_title(\"Test Scores\");\n",
    "\n",
    "ax.legend(loc=\"upper center\", ncol=2);"
   ]
  },
  {
   "cell_type": "markdown",
   "metadata": {},
   "source": [
    "**Math** and **writing** scores are both closely related to **reading** scores. Although, there appears to be a closer association between writing and reading scores."
   ]
  },
  {
   "cell_type": "markdown",
   "metadata": {},
   "source": [
    "---"
   ]
  }
 ],
 "metadata": {
  "kernelspec": {
   "display_name": "Python 3 (ipykernel)",
   "language": "python",
   "name": "python3"
  },
  "language_info": {
   "codemirror_mode": {
    "name": "ipython",
    "version": 3
   },
   "file_extension": ".py",
   "mimetype": "text/x-python",
   "name": "python",
   "nbconvert_exporter": "python",
   "pygments_lexer": "ipython3",
   "version": "3.12.7"
  }
 },
 "nbformat": 4,
 "nbformat_minor": 4
}
