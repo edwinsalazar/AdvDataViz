{
 "cells": [
  {
   "cell_type": "markdown",
   "metadata": {},
   "source": [
    "# Continuous Variables - Histogram - Exercise Solutions"
   ]
  },
  {
   "cell_type": "code",
   "execution_count": null,
   "metadata": {},
   "outputs": [],
   "source": [
    "import pandas as pd\n",
    "import matplotlib.pyplot as plt"
   ]
  },
  {
   "cell_type": "markdown",
   "metadata": {},
   "source": [
    "### Dataset: Customer Churn"
   ]
  },
  {
   "cell_type": "code",
   "execution_count": null,
   "metadata": {},
   "outputs": [],
   "source": [
    "df = pd.read_csv(\"churn.csv\")\n",
    "df.head()"
   ]
  },
  {
   "cell_type": "markdown",
   "metadata": {},
   "source": [
    "### Use salaries for exercises"
   ]
  },
  {
   "cell_type": "code",
   "execution_count": null,
   "metadata": {},
   "outputs": [],
   "source": [
    "males_salary = df.loc[df[\"Gender\"] == 1, \"EstimatedSalary\"][:100]\n",
    "females_salary = df.loc[df[\"Gender\"] == 0, \"EstimatedSalary\"][:100]"
   ]
  },
  {
   "cell_type": "markdown",
   "metadata": {},
   "source": [
    "---"
   ]
  },
  {
   "cell_type": "markdown",
   "metadata": {},
   "source": [
    "### 1.) Make a histogram of \"males_salary\". Set the color to \"dodgerblue\" and the edgecolor to \"black\". Set the number of bins to 20."
   ]
  },
  {
   "cell_type": "code",
   "execution_count": null,
   "metadata": {},
   "outputs": [],
   "source": [
    "fig, ax = plt.subplots()\n",
    "\n",
    "ax.hist(males_salary, color='dodgerblue', edgecolor='black', bins=20);"
   ]
  },
  {
   "cell_type": "markdown",
   "metadata": {},
   "source": [
    "### 2.) Make a histogram of \"females_salary\". Set the color to \"lightcoral\" and the edgecolor to \"black\". Set the number of bins to 25."
   ]
  },
  {
   "cell_type": "code",
   "execution_count": null,
   "metadata": {},
   "outputs": [],
   "source": [
    "fig, ax = plt.subplots()\n",
    "\n",
    "ax.hist(females_salary, color='lightcoral', edgecolor='black', bins=25);"
   ]
  },
  {
   "cell_type": "markdown",
   "metadata": {},
   "source": [
    "### 3.) Make a paired histogram of \"males_salary\" and \"females_salary\" so that their respective bins are displayed next to each other. Set the male's color to \"dodgerblue\" and the female's color to \"lightcoral\". Set the edgecolor to \"black\". Set the number of bins to \"auto\"."
   ]
  },
  {
   "cell_type": "code",
   "execution_count": null,
   "metadata": {},
   "outputs": [],
   "source": [
    "fig, ax = plt.subplots()\n",
    "\n",
    "ax.hist([males_salary, females_salary], color=[\"dodgerblue\", 'lightcoral'], edgecolor='black', bins=\"auto\");"
   ]
  },
  {
   "cell_type": "markdown",
   "metadata": {},
   "source": [
    "### 4.) Create a stacked histogram of \"males_salary\" and \"females_salary\" as follows:\n",
    "- Display males on the bottom. \n",
    "- Include a legend to indicate \"Male\" and \"Female\".\n",
    "- Set [custom colors](https://htmlcolorcodes.com) for each histogram, and set the edgecolor to \"black\". \n",
    "- Set the number of bins to 9.\n",
    "- Set the title to \"Male and Female Stacked Salaries\"\n",
    "- Label the x-axis \"Salary\" "
   ]
  },
  {
   "cell_type": "code",
   "execution_count": null,
   "metadata": {},
   "outputs": [],
   "source": [
    "fig, ax = plt.subplots()\n",
    "\n",
    "ax.hist([males_salary, females_salary], color = ['#338DFF', \"#FF33A2\"], \n",
    "        edgecolor=\"black\", bins=9, stacked=True)\n",
    "\n",
    "ax.set(title=\"Male and Female Stacked Salaries\", xlabel=\"Salary\")\n",
    "\n",
    "plt.legend([\"Male\", \"Female\"]);"
   ]
  },
  {
   "cell_type": "markdown",
   "metadata": {},
   "source": [
    "---"
   ]
  }
 ],
 "metadata": {
  "kernelspec": {
   "display_name": "Python 3 (ipykernel)",
   "language": "python",
   "name": "python3"
  },
  "language_info": {
   "codemirror_mode": {
    "name": "ipython",
    "version": 3
   },
   "file_extension": ".py",
   "mimetype": "text/x-python",
   "name": "python",
   "nbconvert_exporter": "python",
   "pygments_lexer": "ipython3",
   "version": "3.12.7"
  }
 },
 "nbformat": 4,
 "nbformat_minor": 4
}
