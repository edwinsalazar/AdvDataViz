{
 "cells": [
  {
   "cell_type": "markdown",
   "metadata": {},
   "source": [
    "# Continuous Variables - Boxplot"
   ]
  },
  {
   "cell_type": "code",
   "execution_count": null,
   "metadata": {},
   "outputs": [],
   "source": [
    "import pandas as pd\n",
    "import matplotlib.pyplot as plt"
   ]
  },
  {
   "cell_type": "markdown",
   "metadata": {},
   "source": [
    "### Dataset: Heart Disease"
   ]
  },
  {
   "cell_type": "code",
   "execution_count": null,
   "metadata": {},
   "outputs": [],
   "source": [
    "df = pd.read_csv(\"heart-disease.csv\")\n",
    "df.head()"
   ]
  },
  {
   "cell_type": "markdown",
   "metadata": {},
   "source": [
    "# Boxplot"
   ]
  },
  {
   "cell_type": "code",
   "execution_count": null,
   "metadata": {},
   "outputs": [],
   "source": [
    "fig, ax = plt.subplots(figsize = (5, 3))\n",
    "\n",
    "ax.boxplot(df[\"age\"])"
   ]
  },
  {
   "cell_type": "markdown",
   "metadata": {},
   "source": [
    "## Outliers"
   ]
  },
  {
   "cell_type": "code",
   "execution_count": null,
   "metadata": {},
   "outputs": [],
   "source": [
    "fig, ax = plt.subplots(figsize = (5, 3))\n",
    "\n",
    "ax.boxplot(df[\"rest_bp\"]);"
   ]
  },
  {
   "cell_type": "markdown",
   "metadata": {},
   "source": [
    "---"
   ]
  },
  {
   "cell_type": "markdown",
   "metadata": {},
   "source": [
    "## Using Ages for Data"
   ]
  },
  {
   "cell_type": "code",
   "execution_count": null,
   "metadata": {},
   "outputs": [],
   "source": [
    "female_ages = df.loc[df[\"sex\"] == \"female\", \"age\"]\n",
    "male_ages = df.loc[df[\"sex\"] == \"male\", \"age\"]"
   ]
  },
  {
   "cell_type": "markdown",
   "metadata": {},
   "source": [
    "## Joint: continuous x categorical\n",
    "\n",
    "### Create paired boxplots"
   ]
  },
  {
   "cell_type": "code",
   "execution_count": null,
   "metadata": {},
   "outputs": [],
   "source": [
    "fig, ax = plt.subplots(figsize = (15, 5))\n",
    "                                            # used to label x-ticks for each boxplot\n",
    "ax.boxplot([female_ages, male_ages], tick_labels = [\"Female ages\", \"Male ages\"]);"
   ]
  },
  {
   "cell_type": "markdown",
   "metadata": {},
   "source": [
    "### Add axis labels"
   ]
  },
  {
   "cell_type": "code",
   "execution_count": null,
   "metadata": {},
   "outputs": [],
   "source": [
    "fig, ax = plt.subplots(figsize = (15, 5))\n",
    "\n",
    "                                                # labels for ticks\n",
    "ax.boxplot([female_ages, male_ages], tick_labels = [\"Female Ages\", \"Male Ages\"])\n",
    "\n",
    "ax.set_xlabel('Sex', fontsize=16)\n",
    "ax.set_ylabel('Age', fontsize=16);"
   ]
  },
  {
   "cell_type": "markdown",
   "metadata": {},
   "source": [
    "### Set tick labels for each of the boxplots and modify the fontsize"
   ]
  },
  {
   "cell_type": "code",
   "execution_count": null,
   "metadata": {},
   "outputs": [],
   "source": [
    "fig, ax = plt.subplots(figsize = (15, 5))\n",
    "                              \n",
    "ax.boxplot([female_ages, male_ages])\n",
    "\n",
    "ax.set_xlabel('Gender', fontsize=16)\n",
    "ax.set_ylabel('Age', fontsize=16);\n",
    "\n",
    "# more flexibility for styling tick labels\n",
    "ax.set_xticklabels([\"Female Ages\", \"Male Ages\"], fontsize=16);"
   ]
  },
  {
   "cell_type": "markdown",
   "metadata": {},
   "source": [
    "### Style the whiskers and median"
   ]
  },
  {
   "cell_type": "code",
   "execution_count": null,
   "metadata": {},
   "outputs": [],
   "source": [
    "fig, ax = plt.subplots(figsize = (15, 5))\n",
    "\n",
    "                  \n",
    "# style the whiskers and median                                      \n",
    "ax.boxplot([female_ages, male_ages], \n",
    "           whiskerprops = {\"linestyle\":\"dashed\", \"linewidth\":2.0},\n",
    "           medianprops =  {\"color\":\"lime\", \"linewidth\":3})\n",
    "\n",
    "\n",
    "ax.set_xlabel('Gender', fontsize=16)\n",
    "ax.set_ylabel('Age', fontsize=16);\n",
    "\n",
    "ax.set_xticklabels([\"Male age\", \"Female age\"], fontsize=16);"
   ]
  },
  {
   "cell_type": "markdown",
   "metadata": {},
   "source": [
    "### Fill boxes with color"
   ]
  },
  {
   "cell_type": "code",
   "execution_count": null,
   "metadata": {},
   "outputs": [],
   "source": [
    "fig, ax = plt.subplots(figsize = (15, 5))\n",
    "                                           # Set patch_artist to True to color the boxes\n",
    "bplot = ax.boxplot([female_ages, male_ages], patch_artist=True)\n",
    "\n",
    "ax.set_xlabel('Gender', fontsize=16)\n",
    "ax.set_ylabel('Age', fontsize=16)\n",
    "\n",
    "ax.set_xticklabels([\"Female age\", \"Male age\"], fontsize=16)\n",
    "\n",
    "\n",
    "# colors to use\n",
    "colors = ['lightblue', 'darkblue']\n",
    "\n",
    "# The patch is the box for the boxplot\n",
    "# The patch/box is zipped up with its color as a tuple to be unpacked\n",
    "for patch, color in zip(bplot['boxes'], colors):\n",
    "    patch.set_facecolor(color);"
   ]
  },
  {
   "cell_type": "markdown",
   "metadata": {},
   "source": [
    "### Add horizontal grid lines"
   ]
  },
  {
   "cell_type": "code",
   "execution_count": null,
   "metadata": {},
   "outputs": [],
   "source": [
    "fig, ax = plt.subplots(figsize = (15, 5))\n",
    "\n",
    "bplot = ax.boxplot([male_ages, female_ages], patch_artist=True)\n",
    " \n",
    "\n",
    "ax.set_xlabel('Gender', fontsize=16)\n",
    "ax.set_ylabel('Age', fontsize=16)\n",
    "\n",
    "ax.set_xticklabels([\"Male age\", \"Female age\"], fontsize=16)\n",
    "\n",
    "colors = ['darkblue', 'lightblue']\n",
    "\n",
    "for patch, color in zip(bplot['boxes'], colors):\n",
    "    patch.set_facecolor(color);\n",
    "    \n",
    "    \n",
    "# add horizontal grid lines\n",
    "ax.yaxis.grid(True)  "
   ]
  },
  {
   "cell_type": "markdown",
   "metadata": {},
   "source": [
    "---"
   ]
  }
 ],
 "metadata": {
  "kernelspec": {
   "display_name": "Python 3 (ipykernel)",
   "language": "python",
   "name": "python3"
  },
  "language_info": {
   "codemirror_mode": {
    "name": "ipython",
    "version": 3
   },
   "file_extension": ".py",
   "mimetype": "text/x-python",
   "name": "python",
   "nbconvert_exporter": "python",
   "pygments_lexer": "ipython3",
   "version": "3.12.7"
  }
 },
 "nbformat": 4,
 "nbformat_minor": 4
}
