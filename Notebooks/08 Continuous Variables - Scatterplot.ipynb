{
 "cells": [
  {
   "cell_type": "markdown",
   "metadata": {},
   "source": [
    "# Continuous Variables"
   ]
  },
  {
   "cell_type": "code",
   "execution_count": null,
   "metadata": {},
   "outputs": [],
   "source": [
    "import pandas as pd\n",
    "import matplotlib.pyplot as plt"
   ]
  },
  {
   "cell_type": "markdown",
   "metadata": {},
   "source": [
    "### Dataset: Heart Disease"
   ]
  },
  {
   "cell_type": "code",
   "execution_count": null,
   "metadata": {},
   "outputs": [],
   "source": [
    "df = pd.read_csv(\"heart-disease.csv\")\n",
    "\n",
    "df.head()"
   ]
  },
  {
   "cell_type": "markdown",
   "metadata": {},
   "source": [
    "---"
   ]
  },
  {
   "cell_type": "markdown",
   "metadata": {},
   "source": [
    "# Scatterplot"
   ]
  },
  {
   "cell_type": "markdown",
   "metadata": {},
   "source": [
    "## Joint: continuous x continuous"
   ]
  },
  {
   "cell_type": "code",
   "execution_count": null,
   "metadata": {},
   "outputs": [],
   "source": [
    "fig, ax = plt.subplots()\n",
    "\n",
    "#              (x-axis,       y-axis,      alpha,    size,     color)\n",
    "ax.scatter(x=df['age'], y=df['max_hr'], alpha=.3, s =100, c = \"black\")\n",
    " \n",
    "# Set the properties\n",
    "ax.set(title=\"Heart Disease\", xlabel='Age', ylabel=\"Max HR\");"
   ]
  },
  {
   "cell_type": "markdown",
   "metadata": {},
   "source": [
    "### Modify the marker"
   ]
  },
  {
   "cell_type": "code",
   "execution_count": null,
   "metadata": {},
   "outputs": [],
   "source": [
    "fig, ax = plt.subplots()\n",
    "\n",
    "# sample markers: \"o\"(default), \"v\", \"^\", x\", \"P\", \"d\", \".\"\n",
    "ax.scatter(df['age'], df['max_hr'], alpha=.3, s = 200, marker=\"o\");"
   ]
  },
  {
   "cell_type": "markdown",
   "metadata": {},
   "source": [
    "### Modify the marker style"
   ]
  },
  {
   "cell_type": "code",
   "execution_count": null,
   "metadata": {},
   "outputs": [],
   "source": [
    "fig, ax = plt.subplots()\n",
    "                                                      # no fill color\n",
    "ax.scatter(df['age'], df['max_hr'], alpha=.3, s = 300, c = \"none\", edgecolors=\"darkblue\", linewidths=3);"
   ]
  },
  {
   "cell_type": "markdown",
   "metadata": {},
   "source": [
    "---"
   ]
  },
  {
   "cell_type": "markdown",
   "metadata": {},
   "source": [
    "# Joint: continuous x categorical\n",
    "### Age x MaxHR x Heart_Disease"
   ]
  },
  {
   "cell_type": "markdown",
   "metadata": {},
   "source": [
    "## Auto-set the colors based on class membership (categorical variable)\n",
    "The target variable must be an integer."
   ]
  },
  {
   "cell_type": "code",
   "execution_count": null,
   "metadata": {},
   "outputs": [],
   "source": [
    "fig, ax = plt.subplots()\n",
    "\n",
    "ax.scatter(df['age'], df['max_hr'], alpha=.3, s = 200, c = df[\"heart_disease\"]);"
   ]
  },
  {
   "cell_type": "markdown",
   "metadata": {},
   "source": [
    "### Modify the colormap\n",
    "[Colormaps](https://matplotlib.org/stable/gallery/color/colormap_reference.html)"
   ]
  },
  {
   "cell_type": "code",
   "execution_count": null,
   "metadata": {},
   "outputs": [],
   "source": [
    "fig, ax = plt.subplots()\n",
    "\n",
    "ax.scatter(df['age'], df['max_hr'], alpha=.3, s = 200, c = df[\"heart_disease\"], cmap = \"winter\");"
   ]
  },
  {
   "cell_type": "markdown",
   "metadata": {},
   "source": [
    "### 3D Scatterplot"
   ]
  },
  {
   "cell_type": "code",
   "execution_count": null,
   "metadata": {},
   "outputs": [],
   "source": [
    "fig, ax = plt.subplots()\n",
    "\n",
    "# add 3D\n",
    "ax = fig.add_subplot(111, projection='3d')\n",
    "\n",
    "ax.scatter(df['age'], df['max_hr'], df['chol'], alpha=.3, s = 50, c = df[\"heart_disease\"], cmap = \"winter\");\n",
    "\n",
    "ax.set_title('3D Scatter Plot Colored by Heart Disease')\n",
    "ax.set_xlabel('Age')\n",
    "ax.set_ylabel('Max HR')\n",
    "ax.set_zlabel('Cholesterol');"
   ]
  },
  {
   "cell_type": "markdown",
   "metadata": {},
   "source": [
    "---"
   ]
  },
  {
   "cell_type": "markdown",
   "metadata": {},
   "source": [
    "## Manually set the colors based on class membership (categorical variable)"
   ]
  },
  {
   "cell_type": "markdown",
   "metadata": {},
   "source": [
    "### Age x MaxHR x Sex"
   ]
  },
  {
   "cell_type": "code",
   "execution_count": null,
   "metadata": {},
   "outputs": [],
   "source": [
    "males_age = df.loc[df[\"sex\"] == \"male\", 'age'][:75]\n",
    "males_maxhr = df.loc[df[\"sex\"] == \"male\", 'max_hr'][:75]\n",
    "females_age = df.loc[df[\"sex\"] == \"female\", 'age'][:75]\n",
    "females_maxhr = df.loc[df[\"sex\"] == \"female\", 'max_hr'][:75]"
   ]
  },
  {
   "cell_type": "code",
   "execution_count": null,
   "metadata": {},
   "outputs": [],
   "source": [
    "fig, ax = plt.subplots()\n",
    "\n",
    "ax.scatter(males_age, males_maxhr, alpha=.3, s = 200, c = \"darkblue\")\n",
    "ax.scatter(females_age, females_maxhr, alpha=.3, s = 200, c = \"crimson\")\n",
    "\n",
    "ax.set(title=\"Heart Disease\", xlabel='Age', ylabel=\"Max HR\");"
   ]
  },
  {
   "cell_type": "markdown",
   "metadata": {},
   "source": [
    "### Add a legend"
   ]
  },
  {
   "cell_type": "code",
   "execution_count": null,
   "metadata": {},
   "outputs": [],
   "source": [
    "fig, ax = plt.subplots()\n",
    "                                                                    # Add labels to be used by the legend\n",
    "ax.scatter(males_age, males_maxhr, alpha=.3, s = 300, c = \"darkblue\", label=\"Male\")\n",
    "ax.scatter(females_age, females_maxhr, alpha=.3, s = 300, c = \"crimson\", label=\"Female\")\n",
    "\n",
    "ax.set(title=\"Heart Disease\", xlabel='Age', ylabel=\"Max HR\");\n",
    "\n",
    "# The legend will use the label within scatter()\n",
    "ax.legend();"
   ]
  },
  {
   "cell_type": "markdown",
   "metadata": {},
   "source": [
    "### Add shadow to legend"
   ]
  },
  {
   "cell_type": "code",
   "execution_count": null,
   "metadata": {},
   "outputs": [],
   "source": [
    "fig, ax = plt.subplots()\n",
    "\n",
    "ax.scatter(males_age, males_maxhr, alpha=.3, s = 300, c = \"darkblue\", label=\"Male\")\n",
    "ax.scatter(females_age, females_maxhr, alpha=.3, s = 300, c = \"crimson\", label=\"Female\")\n",
    "\n",
    "ax.legend(shadow=True);"
   ]
  },
  {
   "cell_type": "markdown",
   "metadata": {},
   "source": [
    "### Increase legend font size"
   ]
  },
  {
   "cell_type": "code",
   "execution_count": null,
   "metadata": {},
   "outputs": [],
   "source": [
    "fig, ax = plt.subplots()\n",
    "\n",
    "ax.scatter(males_age, males_maxhr, alpha=.3, s = 300, c = \"darkblue\", label=\"Male\")\n",
    "ax.scatter(females_age, females_maxhr, alpha=.3, s = 300, c = \"crimson\", label=\"Female\")\n",
    "\n",
    "ax.legend(shadow=True, fontsize=16);"
   ]
  },
  {
   "cell_type": "markdown",
   "metadata": {},
   "source": [
    "### Modify the location of the legend"
   ]
  },
  {
   "cell_type": "code",
   "execution_count": null,
   "metadata": {},
   "outputs": [],
   "source": [
    "fig, ax = plt.subplots()\n",
    "\n",
    "ax.scatter(males_age, males_maxhr, alpha=.3, s = 300, c = \"darkblue\", label=\"Male\")\n",
    "ax.scatter(females_age, females_maxhr, alpha=.3, s = 300, c = \"crimson\", label=\"Female\")\n",
    "\n",
    "\n",
    "# OPTIONS:\n",
    "# 'upper left', 'upper right', 'lower left', 'lower right', \n",
    "# 'upper center', 'lower center', 'center left', 'center right'\n",
    "\n",
    "# The default is \"best\"\n",
    "ax.legend(loc=\"upper center\");"
   ]
  },
  {
   "cell_type": "markdown",
   "metadata": {},
   "source": [
    "### Modify the number of columns for the legend to display"
   ]
  },
  {
   "cell_type": "code",
   "execution_count": null,
   "metadata": {},
   "outputs": [],
   "source": [
    "fig, ax = plt.subplots()\n",
    "\n",
    "ax.scatter(males_age, males_maxhr, alpha=.3, s = 300, c = \"darkblue\", label=\"Male\")\n",
    "ax.scatter(females_age, females_maxhr, alpha=.3, s = 300, c = \"crimson\", label=\"Female\")\n",
    "\n",
    "                        # Display legend as 2 columns\n",
    "ax.legend(loc=\"upper center\", ncol=2);"
   ]
  },
  {
   "cell_type": "markdown",
   "metadata": {},
   "source": [
    "## Customize legend"
   ]
  },
  {
   "cell_type": "code",
   "execution_count": null,
   "metadata": {},
   "outputs": [],
   "source": [
    "fig, ax = plt.subplots()\n",
    "\n",
    "males = ax.scatter(males_age, males_maxhr, alpha=.3, s = 300, c = \"darkblue\", label=\"Male\")\n",
    "females = ax.scatter(females_age, females_maxhr, alpha=.3, s = 300, c = \"crimson\", label=\"Female\")\n",
    "\n",
    "# Customize a legend\n",
    "ax.legend(loc='upper right', fontsize=14);"
   ]
  },
  {
   "cell_type": "markdown",
   "metadata": {},
   "source": [
    "### Display horizontally (as two columns)"
   ]
  },
  {
   "cell_type": "code",
   "execution_count": null,
   "metadata": {},
   "outputs": [],
   "source": [
    "fig, ax = plt.subplots()\n",
    "\n",
    "\n",
    "males = ax.scatter(males_age, males_maxhr, alpha=.3, s = 300, c = \"darkblue\", label=\"Male\")\n",
    "females = ax.scatter(females_age, females_maxhr, alpha=.3, s = 300, c = \"crimson\", label=\"Female\")\n",
    "\n",
    "ax.legend(loc='upper right', ncol=2, fontsize=14);"
   ]
  },
  {
   "cell_type": "markdown",
   "metadata": {},
   "source": [
    "### Display horizontally (expanded)"
   ]
  },
  {
   "cell_type": "code",
   "execution_count": null,
   "metadata": {},
   "outputs": [],
   "source": [
    "fig, ax = plt.subplots()\n",
    "\n",
    "\n",
    "males = ax.scatter(males_age, males_maxhr, alpha=.3, s = 300, c = \"darkblue\", label=\"Male\")\n",
    "females = ax.scatter(females_age, females_maxhr, alpha=.3, s = 300, c = \"crimson\", label=\"Female\")\n",
    "\n",
    "# Adjust the y-axis to make room for the leged to be centered\n",
    "ax.set_ylim(75, 250)\n",
    "\n",
    "ax.legend(loc='upper center', ncol=2, mode=\"expand\", fontsize=10);"
   ]
  },
  {
   "cell_type": "markdown",
   "metadata": {},
   "source": [
    "### Anchor legend above the scatterplot and hide frame"
   ]
  },
  {
   "cell_type": "code",
   "execution_count": null,
   "metadata": {},
   "outputs": [],
   "source": [
    "fig, ax = plt.subplots()\n",
    "\n",
    "\n",
    "males = ax.scatter(males_age, males_maxhr, alpha=.3, s = 300, c = \"darkblue\", label=\"Males\")\n",
    "females = ax.scatter(females_age, females_maxhr, alpha=.3, s = 300, c = \"crimson\", label=\"Females\")      \n",
    "       \n",
    "                        # x, y  x, y  \n",
    "ax.legend(bbox_to_anchor=(0, 1, 1, 0), # <- coordinates for placing legend\n",
    "                     ncol=2, mode=\"expand\", fontsize=14, frameon=False);"
   ]
  },
  {
   "cell_type": "markdown",
   "metadata": {},
   "source": [
    "### Add a title to the legend"
   ]
  },
  {
   "cell_type": "code",
   "execution_count": null,
   "metadata": {},
   "outputs": [],
   "source": [
    "fig, ax = plt.subplots()\n",
    "\n",
    "males = ax.scatter(males_age, males_maxhr, alpha=.3, s = 300, c = \"darkblue\", label=\"Males\")\n",
    "females = ax.scatter(females_age, females_maxhr, alpha=.3, s = 300, c = \"crimson\", label=\"Females\")       \n",
    "               \n",
    "                       #  x, y  x, y\n",
    "ax.legend(bbox_to_anchor=(0, 1, 1, 0),\n",
    "                    ncol=2, mode=\"expand\", fontsize=14, frameon=False, title=\"Heart Disease\", title_fontsize=16);"
   ]
  },
  {
   "cell_type": "markdown",
   "metadata": {},
   "source": [
    "## Save plot as pdf"
   ]
  },
  {
   "cell_type": "code",
   "execution_count": null,
   "metadata": {},
   "outputs": [],
   "source": [
    "fig, ax = plt.subplots()\n",
    "\n",
    "\n",
    "males = ax.scatter(males_age, males_maxhr, alpha=.3, s = 300, c = \"darkblue\", label=\"Males\")\n",
    "females = ax.scatter(females_age, females_maxhr, alpha=.3, s = 300, c = \"crimson\", label=\"Females\") \n",
    "\n",
    "# adjust the y-axis to make room for the leged to be centered\n",
    "ax.set_ylim(75, 250)\n",
    "\n",
    "ax.legend(loc='upper center', ncol=2, mode=\"expand\", fontsize=14);\n",
    "\n",
    "\n",
    "#### Save the plot as .png or .pdf ####\n",
    "plt.savefig(\"my_scatterplot.pdf\")"
   ]
  },
  {
   "cell_type": "markdown",
   "metadata": {},
   "source": [
    "---"
   ]
  }
 ],
 "metadata": {
  "kernelspec": {
   "display_name": "Python 3 (ipykernel)",
   "language": "python",
   "name": "python3"
  },
  "language_info": {
   "codemirror_mode": {
    "name": "ipython",
    "version": 3
   },
   "file_extension": ".py",
   "mimetype": "text/x-python",
   "name": "python",
   "nbconvert_exporter": "python",
   "pygments_lexer": "ipython3",
   "version": "3.12.7"
  }
 },
 "nbformat": 4,
 "nbformat_minor": 4
}
