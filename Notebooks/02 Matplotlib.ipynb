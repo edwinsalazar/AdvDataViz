{
 "cells": [
  {
   "cell_type": "markdown",
   "metadata": {},
   "source": [
    "# Matplotlib"
   ]
  },
  {
   "cell_type": "code",
   "execution_count": null,
   "metadata": {},
   "outputs": [],
   "source": [
    "import pandas as pd\n",
    "import matplotlib.pyplot as plt"
   ]
  },
  {
   "cell_type": "markdown",
   "metadata": {},
   "source": [
    "### Dataset: Heart Disease"
   ]
  },
  {
   "cell_type": "code",
   "execution_count": null,
   "metadata": {},
   "outputs": [],
   "source": [
    "df = pd.read_csv(\"heart-disease.csv\")\n",
    "\n",
    "df.head()"
   ]
  },
  {
   "cell_type": "markdown",
   "metadata": {},
   "source": [
    "## Figures and Axes"
   ]
  },
  {
   "cell_type": "code",
   "execution_count": null,
   "metadata": {},
   "outputs": [],
   "source": [
    "# subplots() returns a figure and axes object (unpacked)\n",
    "\n",
    "fig, ax = plt.subplots()"
   ]
  },
  {
   "cell_type": "markdown",
   "metadata": {},
   "source": [
    "---"
   ]
  },
  {
   "cell_type": "markdown",
   "metadata": {},
   "source": [
    "# Line Plot"
   ]
  },
  {
   "cell_type": "code",
   "execution_count": null,
   "metadata": {},
   "outputs": [],
   "source": [
    "# Defaults to display the index of the row on the x-axis\n",
    "\n",
    "fig, ax = plt.subplots()\n",
    "\n",
    "ax.plot(df[\"max_hr\"]);"
   ]
  },
  {
   "cell_type": "markdown",
   "metadata": {},
   "source": [
    "## Set properties\n",
    "#### A more flexible way of setting properties"
   ]
  },
  {
   "cell_type": "code",
   "execution_count": null,
   "metadata": {},
   "outputs": [],
   "source": [
    "fig, ax = plt.subplots()\n",
    "\n",
    "ax.plot(df[\"max_hr\"])\n",
    "\n",
    "# A more flexible way of setting properties\n",
    "ax.set_title(\"Line Plot\")\n",
    "ax.set_xlabel(\"Row Index\")\n",
    "ax.set_ylabel(\"Max HR\");"
   ]
  },
  {
   "cell_type": "markdown",
   "metadata": {},
   "source": [
    "#### A more convenient way of setting properties"
   ]
  },
  {
   "cell_type": "code",
   "execution_count": null,
   "metadata": {},
   "outputs": [],
   "source": [
    "fig, ax = plt.subplots()\n",
    "\n",
    "ax.plot(df[\"max_hr\"]);\n",
    "\n",
    "# A more convenient way of setting properties\n",
    "ax.set(title=\"Line Plot\", xlabel=\"Row Index\", ylabel=\"Max HR\");"
   ]
  },
  {
   "cell_type": "markdown",
   "metadata": {},
   "source": [
    "## Set the figsize"
   ]
  },
  {
   "cell_type": "code",
   "execution_count": null,
   "metadata": {},
   "outputs": [],
   "source": [
    "# Set the size of the figure (figsize=(w, h))\n",
    "\n",
    "fig, ax = plt.subplots(figsize=(15,5))\n",
    "\n",
    "ax.plot(df[\"max_hr\"]);"
   ]
  },
  {
   "cell_type": "markdown",
   "metadata": {},
   "source": [
    "---"
   ]
  },
  {
   "cell_type": "markdown",
   "metadata": {},
   "source": [
    "## Modify line style"
   ]
  },
  {
   "cell_type": "code",
   "execution_count": null,
   "metadata": {},
   "outputs": [],
   "source": [
    "fig, ax = plt.subplots(figsize=(15,5))\n",
    "\n",
    "                                # linestyles: (dashdot, dotted, solid), markers: (\"o\", \"s\", v\", \"x\")\n",
    "ax.plot(df[\"max_hr\"], color=\"red\", linestyle=\"dashed\", marker=\"o\");"
   ]
  },
  {
   "cell_type": "markdown",
   "metadata": {},
   "source": [
    "### Modify line style with format string"
   ]
  },
  {
   "cell_type": "code",
   "execution_count": null,
   "metadata": {},
   "outputs": [],
   "source": [
    "fig, ax = plt.subplots(figsize=(15,5))\n",
    "\n",
    "                     # format string: color, linestyle, marker\n",
    "                                     # red,  dashed,  circle\n",
    "ax.plot(df[\"max_hr\"], \"r--o\");"
   ]
  },
  {
   "cell_type": "markdown",
   "metadata": {},
   "source": [
    "### Customize markersize and linewidth"
   ]
  },
  {
   "cell_type": "code",
   "execution_count": null,
   "metadata": {},
   "outputs": [],
   "source": [
    "fig, ax = plt.subplots(figsize=(15,5))\n",
    "                                                        # square\n",
    "ax.plot(df[\"max_hr\"], color=\"red\", linestyle=\"dashed\", marker=\"s\", markersize=7, linewidth=1);"
   ]
  },
  {
   "cell_type": "markdown",
   "metadata": {},
   "source": [
    "---"
   ]
  },
  {
   "cell_type": "markdown",
   "metadata": {},
   "source": [
    "## Create multiple plots in same axis"
   ]
  },
  {
   "cell_type": "code",
   "execution_count": null,
   "metadata": {},
   "outputs": [],
   "source": [
    "fig, ax = plt.subplots()\n",
    "\n",
    "ax.plot(df[\"max_hr\"], color=\"red\")\n",
    "ax.plot(df[\"age\"], color=\"blue\");"
   ]
  },
  {
   "cell_type": "markdown",
   "metadata": {},
   "source": [
    "---"
   ]
  },
  {
   "cell_type": "markdown",
   "metadata": {},
   "source": [
    "### Provide the values to be plotted\n",
    "#### Yearly Total Cholesterol Values for Various Patients"
   ]
  },
  {
   "cell_type": "code",
   "execution_count": null,
   "metadata": {},
   "outputs": [],
   "source": [
    "fig, ax = plt.subplots()\n",
    "\n",
    "# x-axis\n",
    "years = [\"2020\", \"2021\", \"2022\", \"2023\", \"2024\"]\n",
    "\n",
    "# y-axis\n",
    "p1 = [185, 190, 200, 195, 210]\n",
    "p2 = [170, 175, 180, 178, 185]\n",
    "p3 = [220, 209, 230, 235, 240]\n",
    "p4 = [190, 188, 195, 200, 205]\n",
    "p5 = [210, 215, 220, 218, 225]\n",
    "\n",
    "                        # label is used for the legend\n",
    "ax.plot(years, p1, \"r-o\", label=\"Patient 1\")\n",
    "ax.plot(years, p2, \"b-o\", label=\"Patient 2\")\n",
    "ax.plot(years, p3, \"g-o\", label=\"Patient 3\")\n",
    "ax.plot(years, p4, \"c-o\", label=\"Patient 4\")\n",
    "ax.plot(years, p5, \"k-o\", label=\"Patient 5\")\n",
    "\n",
    "ax.set_title(\"Yearly Cholesterol\")\n",
    "ax.set_xlabel(\"Year\")\n",
    "ax.set_ylabel(\"Total Cholesterol\")\n",
    "\n",
    "# Display a legend\n",
    "ax.legend();\n",
    "\n",
    "# Display a legend (just outside of the plot; up 1, and over to the right 1)\n",
    "#ax.legend(bbox_to_anchor=(1, 1));   "
   ]
  },
  {
   "cell_type": "markdown",
   "metadata": {},
   "source": [
    "---"
   ]
  },
  {
   "cell_type": "markdown",
   "metadata": {},
   "source": [
    "## Create multiple plots in separate axes"
   ]
  },
  {
   "cell_type": "markdown",
   "metadata": {},
   "source": [
    "### Separate rows (unpacking axes)"
   ]
  },
  {
   "cell_type": "code",
   "execution_count": null,
   "metadata": {},
   "outputs": [],
   "source": [
    "# Render plots in separate axes;   subplots(n_rows, n_cols)\n",
    "\n",
    "#      tuple                # rows\n",
    "fig, (ax1, ax2) = plt.subplots(2)\n",
    "\n",
    "ax1.plot(df[\"max_hr\"], color=\"red\")\n",
    "ax2.plot(df[\"age\"], color=\"blue\");"
   ]
  },
  {
   "cell_type": "code",
   "execution_count": null,
   "metadata": {},
   "outputs": [],
   "source": [
    "# Render plots in separate axes;   subplots(n_rows, n_cols)\n",
    "\n",
    "#      tuple                # rows\n",
    "fig, (top, bot) = plt.subplots(2)\n",
    "\n",
    "top.plot(df[\"max_hr\"], color=\"red\")\n",
    "bot.plot(df[\"age\"], color=\"blue\");"
   ]
  },
  {
   "cell_type": "markdown",
   "metadata": {},
   "source": [
    "### Separate columns"
   ]
  },
  {
   "cell_type": "code",
   "execution_count": null,
   "metadata": {},
   "outputs": [],
   "source": [
    "# Render plots in separate axes;   subplots(n_rows, n_cols)\n",
    "\n",
    "                         # 1 row, 2 columns\n",
    "fig, (left, right) = plt.subplots(1,2)\n",
    "\n",
    "\n",
    "left.plot(df[\"max_hr\"], color=\"red\")\n",
    "right.plot(df[\"age\"], color=\"blue\");"
   ]
  },
  {
   "cell_type": "markdown",
   "metadata": {},
   "source": [
    "### Set the figsize"
   ]
  },
  {
   "cell_type": "code",
   "execution_count": null,
   "metadata": {},
   "outputs": [],
   "source": [
    "# Set the size of the figure           (figsize=(w, h))\n",
    "fig, (left, right) = plt.subplots(1,2, figsize=(15, 5))\n",
    "\n",
    "\n",
    "left.plot(df[\"max_hr\"], color=\"red\")\n",
    "right.plot(df[\"age\"], color=\"blue\");"
   ]
  },
  {
   "cell_type": "markdown",
   "metadata": {},
   "source": [
    "## Multiple panel plots\n",
    "\n",
    "[Named Colors](https://matplotlib.org/stable/gallery/color/named_colors.html)"
   ]
  },
  {
   "cell_type": "code",
   "execution_count": null,
   "metadata": {},
   "outputs": [],
   "source": [
    "# Unpack the axes\n",
    "fig, ((top_L,top_R),(bot_L,bot_R)) = plt.subplots(2,2, figsize=(15, 10))\n",
    "\n",
    "\n",
    "top_L.plot(df[\"max_hr\"], color=\"cornflowerblue\")\n",
    "top_R.plot(df[\"age\"], color=\"crimson\")\n",
    "bot_L.plot(df[\"rest_bp\"], color=\"gold\")\n",
    "bot_R.plot(df[\"chol\"], color = \"mediumseagreen\");"
   ]
  },
  {
   "cell_type": "markdown",
   "metadata": {},
   "source": [
    "## Improve (tighten) the layout"
   ]
  },
  {
   "cell_type": "code",
   "execution_count": null,
   "metadata": {},
   "outputs": [],
   "source": [
    "fig, ((top_L,top_R),(bot_L,bot_R)) = plt.subplots(2,2, figsize=(15, 10))\n",
    "\n",
    "\n",
    "top_L.plot(df[\"max_hr\"], color=\"cornflowerblue\")\n",
    "top_R.plot(df[\"age\"], color=\"crimson\")\n",
    "bot_L.plot(df[\"rest_bp\"], color=\"gold\")\n",
    "bot_R.plot(df[\"chol\"], color = \"mediumseagreen\")\n",
    "\n",
    "\n",
    "# Adjusts (tighten) the layout for better appearance\n",
    "plt.tight_layout();"
   ]
  },
  {
   "cell_type": "markdown",
   "metadata": {},
   "source": [
    "## Scale all axes to the same range of values"
   ]
  },
  {
   "cell_type": "code",
   "execution_count": null,
   "metadata": {},
   "outputs": [],
   "source": [
    "fig, ((top_L,top_R),(bot_L,bot_R)) = plt.subplots(2,2, figsize=(15, 10))\n",
    "\n",
    "\n",
    "top_L.plot(df[\"max_hr\"], color=\"cornflowerblue\")\n",
    "top_R.plot(df[\"age\"], color=\"crimson\")\n",
    "bot_L.plot(df[\"rest_bp\"], color=\"gold\")\n",
    "bot_R.plot(df[\"chol\"], color = \"mediumseagreen\")\n",
    "\n",
    "\n",
    "#Scale the plots to have the same x-axis and y-axis dimensions\n",
    "# x-axis\n",
    "top_L.set_xlim((-10, 310))\n",
    "top_R.set_xlim((-10, 310))\n",
    "bot_L.set_xlim((-10, 310))\n",
    "bot_R.set_xlim((-10, 310))\n",
    "\n",
    "# y-axis\n",
    "top_L.set_ylim((30, 575))\n",
    "top_R.set_ylim((30, 575))\n",
    "bot_L.set_ylim((30, 575))\n",
    "bot_R.set_ylim((30, 575))\n",
    "\n",
    "\n",
    "plt.tight_layout();"
   ]
  },
  {
   "cell_type": "markdown",
   "metadata": {},
   "source": [
    "#### Alternatively"
   ]
  },
  {
   "cell_type": "code",
   "execution_count": null,
   "metadata": {},
   "outputs": [],
   "source": [
    "fig, ((top_L,top_R),(bot_L,bot_R)) = plt.subplots(2,2, sharex=True, sharey=True, figsize=(15, 10))\n",
    "\n",
    "\n",
    "top_L.plot(df[\"max_hr\"], color=\"cornflowerblue\")\n",
    "top_R.plot(df[\"age\"], color=\"crimson\")\n",
    "bot_L.plot(df[\"rest_bp\"], color=\"gold\")\n",
    "bot_R.plot(df[\"chol\"], color = \"mediumseagreen\")\n",
    "\n",
    "plt.tight_layout();"
   ]
  },
  {
   "cell_type": "markdown",
   "metadata": {},
   "source": [
    "---"
   ]
  }
 ],
 "metadata": {
  "kernelspec": {
   "display_name": "Python 3 (ipykernel)",
   "language": "python",
   "name": "python3"
  },
  "language_info": {
   "codemirror_mode": {
    "name": "ipython",
    "version": 3
   },
   "file_extension": ".py",
   "mimetype": "text/x-python",
   "name": "python",
   "nbconvert_exporter": "python",
   "pygments_lexer": "ipython3",
   "version": "3.12.7"
  }
 },
 "nbformat": 4,
 "nbformat_minor": 4
}
