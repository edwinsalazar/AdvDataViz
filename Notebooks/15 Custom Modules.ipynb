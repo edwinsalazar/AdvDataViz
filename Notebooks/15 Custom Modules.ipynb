{
 "cells": [
  {
   "cell_type": "markdown",
   "id": "ca63411c",
   "metadata": {},
   "source": [
    "# Custom Modules"
   ]
  },
  {
   "cell_type": "markdown",
   "id": "56a585f8",
   "metadata": {},
   "source": [
    "#### Using your custom modules, you can write relatively little code and your go-to plots are already styled the way you like."
   ]
  },
  {
   "cell_type": "code",
   "execution_count": null,
   "id": "b127e42c",
   "metadata": {},
   "outputs": [],
   "source": [
    "import myplotlib as my"
   ]
  },
  {
   "cell_type": "markdown",
   "id": "f457eae5",
   "metadata": {},
   "source": [
    "**Note**: Every time you modify and save your myplotlib.py module, select \"Restart & Clear Output\" under the Kernel menu above, then run the notebook to re-import the module with the updated changes."
   ]
  },
  {
   "cell_type": "code",
   "execution_count": null,
   "id": "63fe30d2",
   "metadata": {},
   "outputs": [],
   "source": [
    "import pandas as pd\n",
    "df = pd.read_csv(\"heart-disease.csv\")\n",
    "df.head()"
   ]
  },
  {
   "cell_type": "code",
   "execution_count": null,
   "id": "df0f9a54",
   "metadata": {},
   "outputs": [],
   "source": [
    "age = df[\"age\"]\n",
    "max_hr = df[\"max_hr\"]"
   ]
  },
  {
   "cell_type": "markdown",
   "id": "589eec51",
   "metadata": {},
   "source": [
    "---"
   ]
  },
  {
   "cell_type": "markdown",
   "id": "b0b7a2af",
   "metadata": {},
   "source": [
    "# Histogram\n",
    "\n",
    "### Default"
   ]
  },
  {
   "cell_type": "code",
   "execution_count": null,
   "id": "2b5be5f9",
   "metadata": {},
   "outputs": [],
   "source": [
    "my.hist(age)"
   ]
  },
  {
   "cell_type": "markdown",
   "id": "f2807820",
   "metadata": {},
   "source": [
    "### Optional color parameter"
   ]
  },
  {
   "cell_type": "code",
   "execution_count": null,
   "id": "f88ecb83",
   "metadata": {},
   "outputs": [],
   "source": [
    "my.hist(age, color=\"gold\")"
   ]
  },
  {
   "cell_type": "markdown",
   "id": "9a7a8f7e",
   "metadata": {},
   "source": [
    "---"
   ]
  },
  {
   "cell_type": "markdown",
   "id": "63cd9e9c",
   "metadata": {},
   "source": [
    "# Boxplot\n",
    "\n",
    "### Default"
   ]
  },
  {
   "cell_type": "code",
   "execution_count": null,
   "id": "0f7ea8fb",
   "metadata": {
    "scrolled": true
   },
   "outputs": [],
   "source": [
    "my.boxplot(age)"
   ]
  },
  {
   "cell_type": "markdown",
   "id": "f6c514d1",
   "metadata": {},
   "source": [
    "### Optional parameters"
   ]
  },
  {
   "cell_type": "code",
   "execution_count": null,
   "id": "3667cfca",
   "metadata": {},
   "outputs": [],
   "source": [
    "my.boxplot(age, labels=[\"Age\"], median_color=\"lime\", patch_artist=True, box_color=[\"darkgreen\"])"
   ]
  },
  {
   "cell_type": "markdown",
   "id": "da5d95c5",
   "metadata": {},
   "source": [
    "---"
   ]
  },
  {
   "cell_type": "markdown",
   "id": "e723af6e",
   "metadata": {},
   "source": [
    "# Scatterplot\n",
    "\n",
    "### Default"
   ]
  },
  {
   "cell_type": "code",
   "execution_count": null,
   "id": "33b1d5aa",
   "metadata": {},
   "outputs": [],
   "source": [
    "my.scatter(age, max_hr)"
   ]
  },
  {
   "cell_type": "markdown",
   "id": "9db201e0",
   "metadata": {},
   "source": [
    "### Optional color parameter"
   ]
  },
  {
   "cell_type": "code",
   "execution_count": null,
   "id": "3c7db07d",
   "metadata": {},
   "outputs": [],
   "source": [
    "my.scatter(age, max_hr, color=\"darkviolet\")"
   ]
  },
  {
   "cell_type": "markdown",
   "id": "b8b4c30b",
   "metadata": {},
   "source": [
    "---"
   ]
  },
  {
   "cell_type": "markdown",
   "id": "3547a8c6",
   "metadata": {},
   "source": [
    "# Bar plot data"
   ]
  },
  {
   "cell_type": "code",
   "execution_count": null,
   "id": "250e1992",
   "metadata": {},
   "outputs": [],
   "source": [
    "df[\"age_groups\"] = pd.cut(df[\"age\"], [29, 39, 49, 59, 69, 79], \n",
    "                          labels=[\"thirties\",\"forties\",\"fifties\",\"sixties\", \"seventies\"])\n",
    "\n",
    "height = df[\"age_groups\"].value_counts()\n",
    "height"
   ]
  },
  {
   "cell_type": "markdown",
   "id": "23d64ada",
   "metadata": {},
   "source": [
    "### Required paremeters"
   ]
  },
  {
   "cell_type": "code",
   "execution_count": null,
   "id": "703740a8",
   "metadata": {},
   "outputs": [],
   "source": [
    "# Use default color\n",
    "my.bar(labels=[\"thirties\",\"forties\",\"fifties\",\"sixties\", \"seventies\"], height=height)"
   ]
  },
  {
   "cell_type": "markdown",
   "id": "4fe4f511",
   "metadata": {},
   "source": [
    "### Optional color parameter"
   ]
  },
  {
   "cell_type": "code",
   "execution_count": null,
   "id": "f5139112",
   "metadata": {},
   "outputs": [],
   "source": [
    "my.bar(labels=[\"thirties\",\"forties\",\"fifties\",\"sixties\", \"seventies\"], height=height, \n",
    "       color=[\"firebrick\", \"orange\", \"slateblue\", \"lightseagreen\", \"forestgreen\"])"
   ]
  },
  {
   "cell_type": "markdown",
   "id": "dcd25ebb",
   "metadata": {},
   "source": [
    "---"
   ]
  },
  {
   "cell_type": "markdown",
   "id": "25f37a54",
   "metadata": {},
   "source": [
    "# Pie chart data"
   ]
  },
  {
   "cell_type": "code",
   "execution_count": null,
   "id": "5f55ac7d",
   "metadata": {},
   "outputs": [],
   "source": [
    "values = df[\"age_groups\"].value_counts()\n",
    "values"
   ]
  },
  {
   "cell_type": "markdown",
   "id": "884cccc2",
   "metadata": {},
   "source": [
    "### Required parameters"
   ]
  },
  {
   "cell_type": "code",
   "execution_count": null,
   "id": "dd758dde",
   "metadata": {},
   "outputs": [],
   "source": [
    "my.pie(labels=[\"thirties\",\"forties\",\"fifties\",\"sixties\", \"seventies\"], values=values,\n",
    "       colors=[\"firebrick\", \"orange\", \"slateblue\", \"lightseagreen\", \"forestgreen\"])"
   ]
  },
  {
   "cell_type": "markdown",
   "id": "df28e301",
   "metadata": {},
   "source": [
    "---"
   ]
  }
 ],
 "metadata": {
  "kernelspec": {
   "display_name": "Python 3 (ipykernel)",
   "language": "python",
   "name": "python3"
  },
  "language_info": {
   "codemirror_mode": {
    "name": "ipython",
    "version": 3
   },
   "file_extension": ".py",
   "mimetype": "text/x-python",
   "name": "python",
   "nbconvert_exporter": "python",
   "pygments_lexer": "ipython3",
   "version": "3.12.7"
  }
 },
 "nbformat": 4,
 "nbformat_minor": 5
}
