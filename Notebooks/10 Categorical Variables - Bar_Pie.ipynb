{
 "cells": [
  {
   "cell_type": "markdown",
   "metadata": {},
   "source": [
    "# Categorical Variables"
   ]
  },
  {
   "cell_type": "code",
   "execution_count": null,
   "metadata": {},
   "outputs": [],
   "source": [
    "import pandas as pd\n",
    "import matplotlib.pyplot as plt"
   ]
  },
  {
   "cell_type": "markdown",
   "metadata": {},
   "source": [
    "---"
   ]
  },
  {
   "cell_type": "markdown",
   "metadata": {},
   "source": [
    "# Bar plot"
   ]
  },
  {
   "cell_type": "code",
   "execution_count": null,
   "metadata": {},
   "outputs": [],
   "source": [
    "fig, ax = plt.subplots(figsize = (15, 5))\n",
    "\n",
    "       # the labels to go beneath the bars              # the height of each bar\n",
    "ax.bar(x=[\"Label1\", \"Label2\",\"Label3\", \"Label4\"], height=[212, 234, 348, 449], \n",
    "       color=\"lightblue\", edgecolor=\"black\");"
   ]
  },
  {
   "cell_type": "markdown",
   "metadata": {},
   "source": [
    "### Display each bar with a different color"
   ]
  },
  {
   "cell_type": "code",
   "execution_count": null,
   "metadata": {},
   "outputs": [],
   "source": [
    "fig, ax = plt.subplots(figsize = (15, 5))\n",
    "\n",
    "       # the labels to go beneath the bars              # the height of each bar\n",
    "ax.bar(x=[\"Label1\", \"Label2\",\"Label3\", \"Label4\"], height=[212, 234, 348, 449], \n",
    "       color=[\"darkblue\", \"mediumblue\", \"lightblue\", \"lightcyan\"], edgecolor=\"black\");"
   ]
  },
  {
   "cell_type": "markdown",
   "metadata": {},
   "source": [
    "### Horizontal bar plot"
   ]
  },
  {
   "cell_type": "code",
   "execution_count": null,
   "metadata": {
    "scrolled": true
   },
   "outputs": [],
   "source": [
    "fig, ax = plt.subplots(figsize = (15, 5))\n",
    "\n",
    "ax.barh(y=[\"Label1\", \"Label2\",\"Label3\", \"Label4\"], width=[212, 234, 348, 449], \n",
    "        color=[\"darkblue\", \"mediumblue\", \"lightblue\", \"lightcyan\"], edgecolor=\"black\");"
   ]
  },
  {
   "cell_type": "markdown",
   "metadata": {},
   "source": [
    "---"
   ]
  },
  {
   "cell_type": "markdown",
   "metadata": {},
   "source": [
    "## Dataset: Heart Disease"
   ]
  },
  {
   "cell_type": "code",
   "execution_count": null,
   "metadata": {},
   "outputs": [],
   "source": [
    "df = pd.read_csv(\"heart-disease.csv\")\n",
    "\n",
    "df.head()"
   ]
  },
  {
   "cell_type": "markdown",
   "metadata": {},
   "source": [
    "### Count of chest pain type for females"
   ]
  },
  {
   "cell_type": "code",
   "execution_count": null,
   "metadata": {},
   "outputs": [],
   "source": [
    "females_pain = df.loc[df[\"sex\"] == \"female\", [\"chest_pain\"]].value_counts()\n",
    "females_pain"
   ]
  },
  {
   "cell_type": "code",
   "execution_count": null,
   "metadata": {},
   "outputs": [],
   "source": [
    "fig, ax = plt.subplots()\n",
    "\n",
    "# the labels to go beneath the bars   # the height of each bar\n",
    "ax.bar(x = ['0', '2', '1', '3'], height=females_pain, color='violet')\n",
    "\n",
    "ax.set_xlabel(\"Chest Pain Type\")\n",
    "ax.set_title(\"Females\");"
   ]
  },
  {
   "cell_type": "markdown",
   "metadata": {},
   "source": [
    "### Count of chest pain type for males"
   ]
  },
  {
   "cell_type": "code",
   "execution_count": null,
   "metadata": {},
   "outputs": [],
   "source": [
    "males_pain = df.loc[df[\"sex\"] == \"male\", [\"chest_pain\"]].value_counts()\n",
    "males_pain"
   ]
  },
  {
   "cell_type": "code",
   "execution_count": null,
   "metadata": {},
   "outputs": [],
   "source": [
    "fig, ax = plt.subplots()\n",
    "\n",
    "# the labels to go beneath the bars   # the height of each bar\n",
    "ax.bar(x = ['0', '2', '1', '3'],  height=males_pain, color='cornflowerblue')\n",
    "\n",
    "ax.set_xlabel(\"Chest Pain Type\")\n",
    "ax.set_title(\"Males\");"
   ]
  },
  {
   "cell_type": "markdown",
   "metadata": {},
   "source": [
    "---"
   ]
  },
  {
   "cell_type": "markdown",
   "metadata": {},
   "source": [
    "# Joint: categorical x categorical"
   ]
  },
  {
   "cell_type": "markdown",
   "metadata": {},
   "source": [
    "## Stacked bar chart with legend"
   ]
  },
  {
   "cell_type": "code",
   "execution_count": null,
   "metadata": {},
   "outputs": [],
   "source": [
    "fig, ax = plt.subplots()\n",
    "\n",
    " \n",
    "ax.bar(x = ['0', '2', '1', '3'], height=females_pain, color='violet')\n",
    "\n",
    "                                                            # set the first plot on the \"bottom\" of the second plot\n",
    "ax.bar(x = ['0', '2', '1', '3'], height=males_pain, color='cornflowerblue', bottom=females_pain);\n",
    "\n",
    "\n",
    "ax.set_xlabel(\"Chest Pain Type\")\n",
    "\n",
    "plt.legend([\"Female\", \"Male\"]);"
   ]
  },
  {
   "cell_type": "markdown",
   "metadata": {},
   "source": [
    "---"
   ]
  },
  {
   "cell_type": "markdown",
   "metadata": {},
   "source": [
    "# Pie chart"
   ]
  },
  {
   "cell_type": "code",
   "execution_count": null,
   "metadata": {},
   "outputs": [],
   "source": [
    "fig, ax = plt.subplots(figsize = (15, 5))\n",
    "\n",
    "       # the value of each slice      # the labels to go with the slices   \n",
    "ax.pie(x=[154, 75, 223, 44], labels = [\"Label1\", \"Label2\",\"Label3\", \"Label4\"]);"
   ]
  },
  {
   "cell_type": "markdown",
   "metadata": {},
   "source": [
    "### Set the colors"
   ]
  },
  {
   "cell_type": "code",
   "execution_count": null,
   "metadata": {},
   "outputs": [],
   "source": [
    "fig, ax = plt.subplots(figsize = (15, 5))\n",
    "\n",
    "ax.pie(x=[154, 75, 223, 44], labels = [\"Label1\", \"Label2\",\"Label3\", \"Label4\"],\n",
    "       colors= [\"aliceblue\", \"lightblue\", \"deepskyblue\", \"dodgerblue\"]);"
   ]
  },
  {
   "cell_type": "markdown",
   "metadata": {},
   "source": [
    "### Set the wedge properties"
   ]
  },
  {
   "cell_type": "code",
   "execution_count": null,
   "metadata": {},
   "outputs": [],
   "source": [
    "fig, ax = plt.subplots(figsize = (15, 5))\n",
    "\n",
    "ax.pie(x=[154, 75, 223, 44], labels = [\"Label1\", \"Label2\",\"Label3\", \"Label4\"],\n",
    "       colors= [\"aliceblue\", \"lightblue\", \"deepskyblue\", \"dodgerblue\"],\n",
    "       wedgeprops = {\"edgecolor\" : \"black\", \n",
    "                      'linewidth': 1, \n",
    "                      'antialiased': True});"
   ]
  },
  {
   "cell_type": "markdown",
   "metadata": {},
   "source": [
    "### autopct"
   ]
  },
  {
   "cell_type": "code",
   "execution_count": null,
   "metadata": {},
   "outputs": [],
   "source": [
    "fig, ax = plt.subplots(figsize = (15, 5))\n",
    "\n",
    "ax.pie(x=[154, 75, 223, 44], labels = [\"Label1\", \"Label2\",\"Label3\", \"Label4\"],\n",
    "       colors= [\"aliceblue\", \"lightblue\", \"deepskyblue\", \"dodgerblue\"],\n",
    "       autopct='%.2f%%'); # format values as a float with 2 decimal places."
   ]
  },
  {
   "cell_type": "markdown",
   "metadata": {},
   "source": [
    "### Set the start angle\n",
    "Rotates so that Label1 is at 90 degrees"
   ]
  },
  {
   "cell_type": "code",
   "execution_count": null,
   "metadata": {},
   "outputs": [],
   "source": [
    "fig, ax = plt.subplots(figsize = (15, 5))\n",
    "\n",
    "ax.pie(x=[154, 75, 223, 44], labels = [\"Lable1\", \"Label2\",\"Lable3\", \"Label4\"],\n",
    "       colors= [\"aliceblue\", \"lightblue\", \"deepskyblue\", \"dodgerblue\"],\n",
    "       autopct='%.1f%%', startangle=90);"
   ]
  },
  {
   "cell_type": "markdown",
   "metadata": {},
   "source": [
    "### explode\n",
    "Separates out the indicated slice"
   ]
  },
  {
   "cell_type": "code",
   "execution_count": null,
   "metadata": {},
   "outputs": [],
   "source": [
    "fig, ax = plt.subplots(figsize = (15, 5))\n",
    "\n",
    "ax.pie(x=[154, 75, 223, 44], labels = [\"Lable1\", \"Label2\",\"Lable3\", \"Label4\"],\n",
    "        colors=[\"aliceblue\", \"lightblue\", \"deepskyblue\", \"dodgerblue\"],\n",
    "        autopct='%.1f%%', startangle=90, explode = [0, 0, 0.05, 0]); # separate out Label 3 slice "
   ]
  },
  {
   "cell_type": "markdown",
   "metadata": {},
   "source": [
    "### shadow"
   ]
  },
  {
   "cell_type": "code",
   "execution_count": null,
   "metadata": {},
   "outputs": [],
   "source": [
    "fig, ax = plt.subplots(figsize = (15, 5))\n",
    "\n",
    "ax.pie(x=[154, 75, 223, 44], labels = [\"Lable1\", \"Label2\",\"Lable3\", \"Label4\"],\n",
    "        colors= [\"aliceblue\", \"lightblue\", \"deepskyblue\", \"dodgerblue\"],\n",
    "        autopct='%.1f%%', startangle=90, explode = [0, 0, 0.05, 0], shadow=True); "
   ]
  },
  {
   "cell_type": "markdown",
   "metadata": {},
   "source": [
    "---"
   ]
  },
  {
   "cell_type": "markdown",
   "metadata": {},
   "source": [
    "---"
   ]
  },
  {
   "cell_type": "markdown",
   "metadata": {},
   "source": [
    "## Dataset: Top 50 US Tech Companies"
   ]
  },
  {
   "cell_type": "code",
   "execution_count": null,
   "metadata": {},
   "outputs": [],
   "source": [
    "df = pd.read_csv(\"Top 50 US Tech Companies.csv\")\n",
    "\n",
    "df.head()"
   ]
  },
  {
   "cell_type": "markdown",
   "metadata": {},
   "source": [
    "#### Unique categories"
   ]
  },
  {
   "cell_type": "code",
   "execution_count": null,
   "metadata": {},
   "outputs": [],
   "source": [
    "df[\"HQ State\"].unique()"
   ]
  },
  {
   "cell_type": "markdown",
   "metadata": {},
   "source": [
    "#### Value counts"
   ]
  },
  {
   "cell_type": "code",
   "execution_count": null,
   "metadata": {},
   "outputs": [],
   "source": [
    "df[\"HQ State\"].value_counts()"
   ]
  },
  {
   "cell_type": "markdown",
   "metadata": {},
   "source": [
    "## Plot the top 4 states for tech company headquarters"
   ]
  },
  {
   "cell_type": "markdown",
   "metadata": {},
   "source": [
    "## Bar plot"
   ]
  },
  {
   "cell_type": "code",
   "execution_count": null,
   "metadata": {},
   "outputs": [],
   "source": [
    "data = df[\"HQ State\"].value_counts()[:4]\n",
    "labels = [\"California\", \"Texas\", \"Washington\", \"New York\"]\n",
    "colors = [\"darkorange\", \"darkgoldenrod\", \"gold\", \"lightyellow\"]"
   ]
  },
  {
   "cell_type": "code",
   "execution_count": null,
   "metadata": {},
   "outputs": [],
   "source": [
    "fig, ax = plt.subplots(figsize = (10, 4))\n",
    "\n",
    "ax.bar(x=labels, height=data, color=colors, edgecolor=\"black\");"
   ]
  },
  {
   "cell_type": "markdown",
   "metadata": {},
   "source": [
    "## Pie Chart"
   ]
  },
  {
   "cell_type": "code",
   "execution_count": null,
   "metadata": {},
   "outputs": [],
   "source": [
    "fig, ax = plt.subplots(figsize = (15, 5))\n",
    "\n",
    "ax.pie(x=data, labels=labels, colors=colors,\n",
    "       autopct='%.1f%%', startangle=90, explode = [0.1, 0, 0, 0], shadow=True);"
   ]
  },
  {
   "cell_type": "markdown",
   "metadata": {},
   "source": [
    "---"
   ]
  },
  {
   "cell_type": "markdown",
   "metadata": {},
   "source": [
    "# Transforming a continuous variable into a categorical variable"
   ]
  },
  {
   "cell_type": "markdown",
   "metadata": {},
   "source": [
    "## Discretizing\n",
    "Transforming from continuous to discrete variable"
   ]
  },
  {
   "cell_type": "code",
   "execution_count": null,
   "metadata": {},
   "outputs": [],
   "source": [
    "df = pd.read_csv(\"churn.csv\")\n",
    "df.head()"
   ]
  },
  {
   "cell_type": "markdown",
   "metadata": {},
   "source": [
    "### Binning"
   ]
  },
  {
   "cell_type": "code",
   "execution_count": null,
   "metadata": {},
   "outputs": [],
   "source": [
    "df[\"Credit Category\"] = pd.cut(df[\"CreditScore\"], [0, 579, 669, 739, 799, 850], \n",
    "                                        labels=[\"Poor\",\"Fair\",\"Good\",\"Very Good\", \"Excellent\"])\n",
    "df[\"Credit Category\"].head(10)"
   ]
  },
  {
   "cell_type": "markdown",
   "metadata": {},
   "source": [
    "#### Count each category"
   ]
  },
  {
   "cell_type": "code",
   "execution_count": null,
   "metadata": {},
   "outputs": [],
   "source": [
    "df[\"Credit Category\"].value_counts()"
   ]
  },
  {
   "cell_type": "markdown",
   "metadata": {},
   "source": [
    "# Bar chart"
   ]
  },
  {
   "cell_type": "code",
   "execution_count": null,
   "metadata": {},
   "outputs": [],
   "source": [
    "data = df[\"Credit Category\"].value_counts()\n",
    "labels = [\"Fair\", \"Good\", \"Poor\", \"Very Good\", \"Excellent\"]\n",
    "colors = [\"goldenrod\", \"aquamarine\", \"lightcoral\", \"limegreen\", \"green\"]"
   ]
  },
  {
   "cell_type": "code",
   "execution_count": null,
   "metadata": {},
   "outputs": [],
   "source": [
    "fig, ax = plt.subplots(figsize = (15, 5))\n",
    "\n",
    "ax.bar(x=labels, height=data, color=colors, edgecolor=\"black\");"
   ]
  },
  {
   "cell_type": "markdown",
   "metadata": {},
   "source": [
    "# Pie chart"
   ]
  },
  {
   "cell_type": "code",
   "execution_count": null,
   "metadata": {},
   "outputs": [],
   "source": [
    "fig, ax = plt.subplots(figsize = (15, 5))\n",
    "\n",
    "ax.pie(x=data, labels=labels, colors=colors,\n",
    "       autopct='%.1f%%', startangle=90, explode = [0, 0, 0, 0, .3], shadow=True,\n",
    "       wedgeprops = {\"edgecolor\" : \"black\", \n",
    "                      'linewidth': 1, \n",
    "                      'antialiased': True});"
   ]
  },
  {
   "cell_type": "markdown",
   "metadata": {},
   "source": [
    "---"
   ]
  }
 ],
 "metadata": {
  "kernelspec": {
   "display_name": "Python 3 (ipykernel)",
   "language": "python",
   "name": "python3"
  },
  "language_info": {
   "codemirror_mode": {
    "name": "ipython",
    "version": 3
   },
   "file_extension": ".py",
   "mimetype": "text/x-python",
   "name": "python",
   "nbconvert_exporter": "python",
   "pygments_lexer": "ipython3",
   "version": "3.12.7"
  }
 },
 "nbformat": 4,
 "nbformat_minor": 4
}
